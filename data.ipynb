{
 "cells": [
  {
   "cell_type": "code",
   "execution_count": 269,
   "metadata": {},
   "outputs": [],
   "source": [
    "import numpy as np\n",
    "import pandas as pd\n",
    "import matplotlib.pyplot as plt\n",
    "import seaborn as sns\n",
    "import datetime as dt\n",
    "from datetime import date\n",
    "from scipy.stats import f_oneway\n",
    "from scipy.stats import chi2_contingency"
   ]
  },
  {
   "cell_type": "code",
   "execution_count": 270,
   "metadata": {},
   "outputs": [],
   "source": [
    "commune=pd.read_excel('commune.xlsx')\n",
    "enroll = pd.read_csv(\"enroll.csv\")\n",
    "quest = pd.read_csv(\"quest.csv\")\n",
    "industry = pd.read_csv(r\"industry.csv\")\n",
    "ordd = pd.read_csv(\"ord.csv\")\n",
    "study_domain = pd.read_csv(r\"study_domain.csv\")\n",
    "transaction = pd.read_csv(r\"transaction.csv\")\n",
    "technology = pd.read_csv(r\"technology.csv\")"
   ]
  },
  {
   "cell_type": "code",
   "execution_count": 271,
   "metadata": {},
   "outputs": [],
   "source": [
    "quest.rename(columns={\"formal_sector_job\": \"Job is formal\"},inplace=True)"
   ]
  },
  {
   "cell_type": "code",
   "execution_count": 272,
   "metadata": {},
   "outputs": [],
   "source": [
    "study_domain1 = pd.get_dummies(data=study_domain[[\"quest_id\", \"values\"]], columns=['values'], prefix=\"\", prefix_sep=\"\")\n",
    "study_domain1=study_domain1.groupby(\"quest_id\").sum()"
   ]
  },
  {
   "cell_type": "code",
   "execution_count": 273,
   "metadata": {},
   "outputs": [],
   "source": [
    "quest['department'] = quest['department'].apply(lambda x  : str(x))\n",
    "quest['department']= quest['department'].apply(lambda x : x.upper())\n",
    "quest['commune']= quest['commune'].apply(lambda x : x.upper())\n",
    "quest\n",
    "first_merge=pd.merge(quest,commune, how = 'left', left_on=['department','commune'], right_on=['ADM1_PCODE','Commune_Id'])\n"
   ]
  },
  {
   "cell_type": "code",
   "execution_count": 274,
   "metadata": {},
   "outputs": [],
   "source": [
    "first_merge['dob'].replace({'3 aout 1977':'03/08/1977'},inplace = True)"
   ]
  },
  {
   "cell_type": "code",
   "execution_count": 275,
   "metadata": {},
   "outputs": [
    {
     "data": {
      "text/plain": [
       "0     1998-08-25\n",
       "1     1996-09-29\n",
       "2     1996-05-17\n",
       "3     1996-11-24\n",
       "4     1997-07-20\n",
       "         ...    \n",
       "245   1994-02-15\n",
       "246   1990-08-10\n",
       "247   1993-12-28\n",
       "248   1992-04-17\n",
       "249   1993-07-22\n",
       "Name: dob, Length: 250, dtype: datetime64[ns]"
      ]
     },
     "execution_count": 275,
     "metadata": {},
     "output_type": "execute_result"
    }
   ],
   "source": [
    "first_merge[\"dob\"] = pd.to_datetime(first_merge[\"dob\"])\n",
    "first_merge[\"dob\"]"
   ]
  },
  {
   "cell_type": "code",
   "execution_count": 276,
   "metadata": {},
   "outputs": [],
   "source": [
    "first_merge['applicant_date']=first_merge['created_at'].apply(lambda x: x.split('T')[0])"
   ]
  },
  {
   "cell_type": "code",
   "execution_count": 277,
   "metadata": {},
   "outputs": [],
   "source": [
    "first_merge[\"applicant_date\"]=pd.to_datetime(first_merge[\"applicant_date\"])"
   ]
  },
  {
   "cell_type": "code",
   "execution_count": 278,
   "metadata": {},
   "outputs": [],
   "source": [
    "first_merge[\"age\"] = (first_merge[\"applicant_date\"] -first_merge[\"dob\"])"
   ]
  },
  {
   "cell_type": "code",
   "execution_count": 279,
   "metadata": {},
   "outputs": [],
   "source": [
    "first_merge['age'] = first_merge['age']// np.timedelta64(1,\"Y\")"
   ]
  },
  {
   "cell_type": "code",
   "execution_count": 280,
   "metadata": {},
   "outputs": [
    {
     "data": {
      "text/plain": [
       "6"
      ]
     },
     "execution_count": 280,
     "metadata": {},
     "output_type": "execute_result"
    }
   ],
   "source": [
    "first_merge.age.isna().sum()"
   ]
  },
  {
   "cell_type": "code",
   "execution_count": 281,
   "metadata": {},
   "outputs": [
    {
     "data": {
      "text/plain": [
       "25    -1.0\n",
       "92    -1.0\n",
       "176    0.0\n",
       "209    1.0\n",
       "210   -1.0\n",
       "219   -1.0\n",
       "229   -1.0\n",
       "Name: age, dtype: float64"
      ]
     },
     "execution_count": 281,
     "metadata": {},
     "output_type": "execute_result"
    }
   ],
   "source": [
    "first_merge[first_merge['age']<=1]['age']"
   ]
  },
  {
   "cell_type": "code",
   "execution_count": 282,
   "metadata": {},
   "outputs": [],
   "source": [
    "first_merge[first_merge['age'] <= 1] =first_merge['age'].mean()"
   ]
  },
  {
   "cell_type": "code",
   "execution_count": null,
   "metadata": {},
   "outputs": [],
   "source": []
  },
  {
   "cell_type": "code",
   "execution_count": 283,
   "metadata": {},
   "outputs": [
    {
     "data": {
      "text/plain": [
       "24.00000    27\n",
       "23.00000    26\n",
       "25.00000    24\n",
       "26.00000    21\n",
       "28.00000    18\n",
       "22.00000    16\n",
       "27.00000    14\n",
       "29.00000    12\n",
       "21.00000    10\n",
       "30.00000     9\n",
       "33.00000     8\n",
       "20.00000     7\n",
       "32.00000     7\n",
       "34.00000     7\n",
       "26.47541     7\n",
       "31.00000     7\n",
       "37.00000     6\n",
       "40.00000     4\n",
       "38.00000     3\n",
       "44.00000     2\n",
       "35.00000     1\n",
       "19.00000     1\n",
       "18.00000     1\n",
       "43.00000     1\n",
       "46.00000     1\n",
       "50.00000     1\n",
       "39.00000     1\n",
       "48.00000     1\n",
       "45.00000     1\n",
       "Name: age, dtype: int64"
      ]
     },
     "execution_count": 283,
     "metadata": {},
     "output_type": "execute_result"
    }
   ],
   "source": [
    "first_merge['age'].value_counts()"
   ]
  },
  {
   "cell_type": "code",
   "execution_count": null,
   "metadata": {},
   "outputs": [],
   "source": []
  },
  {
   "cell_type": "code",
   "execution_count": null,
   "metadata": {},
   "outputs": [],
   "source": []
  },
  {
   "cell_type": "code",
   "execution_count": null,
   "metadata": {},
   "outputs": [],
   "source": []
  },
  {
   "cell_type": "code",
   "execution_count": null,
   "metadata": {},
   "outputs": [],
   "source": []
  },
  {
   "cell_type": "code",
   "execution_count": 284,
   "metadata": {},
   "outputs": [
    {
     "data": {
      "text/html": [
       "<div>\n",
       "<style scoped>\n",
       "    .dataframe tbody tr th:only-of-type {\n",
       "        vertical-align: middle;\n",
       "    }\n",
       "\n",
       "    .dataframe tbody tr th {\n",
       "        vertical-align: top;\n",
       "    }\n",
       "\n",
       "    .dataframe thead th {\n",
       "        text-align: right;\n",
       "    }\n",
       "</style>\n",
       "<table border=\"1\" class=\"dataframe\">\n",
       "  <thead>\n",
       "    <tr style=\"text-align: right;\">\n",
       "      <th></th>\n",
       "      <th>Bash</th>\n",
       "      <th>Excel</th>\n",
       "      <th>Git</th>\n",
       "      <th>Java</th>\n",
       "      <th>JavaScript</th>\n",
       "      <th>PHP</th>\n",
       "      <th>PowerBI or Tableau</th>\n",
       "      <th>Python</th>\n",
       "      <th>R</th>\n",
       "      <th>SQL</th>\n",
       "      <th>VBA</th>\n",
       "      <th>other</th>\n",
       "    </tr>\n",
       "    <tr>\n",
       "      <th>quest_id</th>\n",
       "      <th></th>\n",
       "      <th></th>\n",
       "      <th></th>\n",
       "      <th></th>\n",
       "      <th></th>\n",
       "      <th></th>\n",
       "      <th></th>\n",
       "      <th></th>\n",
       "      <th></th>\n",
       "      <th></th>\n",
       "      <th></th>\n",
       "      <th></th>\n",
       "    </tr>\n",
       "  </thead>\n",
       "  <tbody>\n",
       "    <tr>\n",
       "      <th>905ddcf2-ce95-11eb-9a92-7c67a234f601</th>\n",
       "      <td>0</td>\n",
       "      <td>1</td>\n",
       "      <td>0</td>\n",
       "      <td>0</td>\n",
       "      <td>0</td>\n",
       "      <td>0</td>\n",
       "      <td>0</td>\n",
       "      <td>0</td>\n",
       "      <td>1</td>\n",
       "      <td>0</td>\n",
       "      <td>0</td>\n",
       "      <td>0</td>\n",
       "    </tr>\n",
       "    <tr>\n",
       "      <th>905e2608-ce95-11eb-809f-7c67a234f601</th>\n",
       "      <td>1</td>\n",
       "      <td>1</td>\n",
       "      <td>1</td>\n",
       "      <td>1</td>\n",
       "      <td>1</td>\n",
       "      <td>0</td>\n",
       "      <td>0</td>\n",
       "      <td>1</td>\n",
       "      <td>0</td>\n",
       "      <td>1</td>\n",
       "      <td>0</td>\n",
       "      <td>0</td>\n",
       "    </tr>\n",
       "    <tr>\n",
       "      <th>905e4cf5-ce95-11eb-96a9-7c67a234f601</th>\n",
       "      <td>0</td>\n",
       "      <td>1</td>\n",
       "      <td>0</td>\n",
       "      <td>1</td>\n",
       "      <td>1</td>\n",
       "      <td>1</td>\n",
       "      <td>0</td>\n",
       "      <td>1</td>\n",
       "      <td>0</td>\n",
       "      <td>0</td>\n",
       "      <td>0</td>\n",
       "      <td>0</td>\n",
       "    </tr>\n",
       "    <tr>\n",
       "      <th>905e73fd-ce95-11eb-a7b0-7c67a234f601</th>\n",
       "      <td>1</td>\n",
       "      <td>0</td>\n",
       "      <td>0</td>\n",
       "      <td>0</td>\n",
       "      <td>0</td>\n",
       "      <td>1</td>\n",
       "      <td>0</td>\n",
       "      <td>0</td>\n",
       "      <td>0</td>\n",
       "      <td>0</td>\n",
       "      <td>0</td>\n",
       "      <td>0</td>\n",
       "    </tr>\n",
       "    <tr>\n",
       "      <th>905e9b27-ce95-11eb-9c37-7c67a234f601</th>\n",
       "      <td>0</td>\n",
       "      <td>1</td>\n",
       "      <td>0</td>\n",
       "      <td>1</td>\n",
       "      <td>1</td>\n",
       "      <td>0</td>\n",
       "      <td>0</td>\n",
       "      <td>1</td>\n",
       "      <td>0</td>\n",
       "      <td>1</td>\n",
       "      <td>0</td>\n",
       "      <td>0</td>\n",
       "    </tr>\n",
       "    <tr>\n",
       "      <th>...</th>\n",
       "      <td>...</td>\n",
       "      <td>...</td>\n",
       "      <td>...</td>\n",
       "      <td>...</td>\n",
       "      <td>...</td>\n",
       "      <td>...</td>\n",
       "      <td>...</td>\n",
       "      <td>...</td>\n",
       "      <td>...</td>\n",
       "      <td>...</td>\n",
       "      <td>...</td>\n",
       "      <td>...</td>\n",
       "    </tr>\n",
       "    <tr>\n",
       "      <th>906b3c84-ce95-11eb-8c2a-7c67a234f601</th>\n",
       "      <td>0</td>\n",
       "      <td>1</td>\n",
       "      <td>0</td>\n",
       "      <td>0</td>\n",
       "      <td>0</td>\n",
       "      <td>0</td>\n",
       "      <td>0</td>\n",
       "      <td>0</td>\n",
       "      <td>0</td>\n",
       "      <td>0</td>\n",
       "      <td>0</td>\n",
       "      <td>0</td>\n",
       "    </tr>\n",
       "    <tr>\n",
       "      <th>906b3c85-ce95-11eb-9b87-7c67a234f601</th>\n",
       "      <td>1</td>\n",
       "      <td>1</td>\n",
       "      <td>1</td>\n",
       "      <td>0</td>\n",
       "      <td>1</td>\n",
       "      <td>0</td>\n",
       "      <td>1</td>\n",
       "      <td>0</td>\n",
       "      <td>0</td>\n",
       "      <td>0</td>\n",
       "      <td>0</td>\n",
       "      <td>0</td>\n",
       "    </tr>\n",
       "    <tr>\n",
       "      <th>906b3c86-ce95-11eb-b6a7-7c67a234f601</th>\n",
       "      <td>0</td>\n",
       "      <td>1</td>\n",
       "      <td>0</td>\n",
       "      <td>0</td>\n",
       "      <td>0</td>\n",
       "      <td>0</td>\n",
       "      <td>1</td>\n",
       "      <td>1</td>\n",
       "      <td>0</td>\n",
       "      <td>1</td>\n",
       "      <td>0</td>\n",
       "      <td>0</td>\n",
       "    </tr>\n",
       "    <tr>\n",
       "      <th>906b65e2-ce95-11eb-8b5c-7c67a234f601</th>\n",
       "      <td>0</td>\n",
       "      <td>0</td>\n",
       "      <td>0</td>\n",
       "      <td>0</td>\n",
       "      <td>0</td>\n",
       "      <td>0</td>\n",
       "      <td>0</td>\n",
       "      <td>0</td>\n",
       "      <td>0</td>\n",
       "      <td>1</td>\n",
       "      <td>0</td>\n",
       "      <td>0</td>\n",
       "    </tr>\n",
       "    <tr>\n",
       "      <th>906b65e3-ce95-11eb-a294-7c67a234f601</th>\n",
       "      <td>0</td>\n",
       "      <td>1</td>\n",
       "      <td>0</td>\n",
       "      <td>0</td>\n",
       "      <td>0</td>\n",
       "      <td>0</td>\n",
       "      <td>0</td>\n",
       "      <td>0</td>\n",
       "      <td>1</td>\n",
       "      <td>0</td>\n",
       "      <td>0</td>\n",
       "      <td>0</td>\n",
       "    </tr>\n",
       "  </tbody>\n",
       "</table>\n",
       "<p>244 rows × 12 columns</p>\n",
       "</div>"
      ],
      "text/plain": [
       "                                      Bash  Excel  Git  Java  JavaScript  PHP  \\\n",
       "quest_id                                                                        \n",
       "905ddcf2-ce95-11eb-9a92-7c67a234f601     0      1    0     0           0    0   \n",
       "905e2608-ce95-11eb-809f-7c67a234f601     1      1    1     1           1    0   \n",
       "905e4cf5-ce95-11eb-96a9-7c67a234f601     0      1    0     1           1    1   \n",
       "905e73fd-ce95-11eb-a7b0-7c67a234f601     1      0    0     0           0    1   \n",
       "905e9b27-ce95-11eb-9c37-7c67a234f601     0      1    0     1           1    0   \n",
       "...                                    ...    ...  ...   ...         ...  ...   \n",
       "906b3c84-ce95-11eb-8c2a-7c67a234f601     0      1    0     0           0    0   \n",
       "906b3c85-ce95-11eb-9b87-7c67a234f601     1      1    1     0           1    0   \n",
       "906b3c86-ce95-11eb-b6a7-7c67a234f601     0      1    0     0           0    0   \n",
       "906b65e2-ce95-11eb-8b5c-7c67a234f601     0      0    0     0           0    0   \n",
       "906b65e3-ce95-11eb-a294-7c67a234f601     0      1    0     0           0    0   \n",
       "\n",
       "                                      PowerBI or Tableau  Python  R  SQL  VBA  \\\n",
       "quest_id                                                                        \n",
       "905ddcf2-ce95-11eb-9a92-7c67a234f601                   0       0  1    0    0   \n",
       "905e2608-ce95-11eb-809f-7c67a234f601                   0       1  0    1    0   \n",
       "905e4cf5-ce95-11eb-96a9-7c67a234f601                   0       1  0    0    0   \n",
       "905e73fd-ce95-11eb-a7b0-7c67a234f601                   0       0  0    0    0   \n",
       "905e9b27-ce95-11eb-9c37-7c67a234f601                   0       1  0    1    0   \n",
       "...                                                  ...     ... ..  ...  ...   \n",
       "906b3c84-ce95-11eb-8c2a-7c67a234f601                   0       0  0    0    0   \n",
       "906b3c85-ce95-11eb-9b87-7c67a234f601                   1       0  0    0    0   \n",
       "906b3c86-ce95-11eb-b6a7-7c67a234f601                   1       1  0    1    0   \n",
       "906b65e2-ce95-11eb-8b5c-7c67a234f601                   0       0  0    1    0   \n",
       "906b65e3-ce95-11eb-a294-7c67a234f601                   0       0  1    0    0   \n",
       "\n",
       "                                      other  \n",
       "quest_id                                     \n",
       "905ddcf2-ce95-11eb-9a92-7c67a234f601      0  \n",
       "905e2608-ce95-11eb-809f-7c67a234f601      0  \n",
       "905e4cf5-ce95-11eb-96a9-7c67a234f601      0  \n",
       "905e73fd-ce95-11eb-a7b0-7c67a234f601      0  \n",
       "905e9b27-ce95-11eb-9c37-7c67a234f601      0  \n",
       "...                                     ...  \n",
       "906b3c84-ce95-11eb-8c2a-7c67a234f601      0  \n",
       "906b3c85-ce95-11eb-9b87-7c67a234f601      0  \n",
       "906b3c86-ce95-11eb-b6a7-7c67a234f601      0  \n",
       "906b65e2-ce95-11eb-8b5c-7c67a234f601      0  \n",
       "906b65e3-ce95-11eb-a294-7c67a234f601      0  \n",
       "\n",
       "[244 rows x 12 columns]"
      ]
     },
     "execution_count": 284,
     "metadata": {},
     "output_type": "execute_result"
    }
   ],
   "source": [
    "technologyy = pd.get_dummies(data=technology[[\"quest_id\", \"values\"]], columns=['values'], prefix=\"\", prefix_sep=\"\")\n",
    "technologyyy=technologyy.groupby(\"quest_id\").sum()\n",
    "technologyyy"
   ]
  },
  {
   "cell_type": "code",
   "execution_count": 285,
   "metadata": {},
   "outputs": [
    {
     "data": {
      "text/html": [
       "<div>\n",
       "<style scoped>\n",
       "    .dataframe tbody tr th:only-of-type {\n",
       "        vertical-align: middle;\n",
       "    }\n",
       "\n",
       "    .dataframe tbody tr th {\n",
       "        vertical-align: top;\n",
       "    }\n",
       "\n",
       "    .dataframe thead th {\n",
       "        text-align: right;\n",
       "    }\n",
       "</style>\n",
       "<table border=\"1\" class=\"dataframe\">\n",
       "  <thead>\n",
       "    <tr style=\"text-align: right;\">\n",
       "      <th></th>\n",
       "      <th>Payed</th>\n",
       "      <th>user_id</th>\n",
       "      <th>Payment_Date</th>\n",
       "    </tr>\n",
       "  </thead>\n",
       "  <tbody>\n",
       "    <tr>\n",
       "      <th>0</th>\n",
       "      <td>Yes</td>\n",
       "      <td>40976440</td>\n",
       "      <td>2021-03-08T05:08:50.832Z</td>\n",
       "    </tr>\n",
       "    <tr>\n",
       "      <th>1</th>\n",
       "      <td>Yes</td>\n",
       "      <td>41179271</td>\n",
       "      <td>2021-03-08T17:26:35.841Z</td>\n",
       "    </tr>\n",
       "  </tbody>\n",
       "</table>\n",
       "</div>"
      ],
      "text/plain": [
       "  Payed   user_id              Payment_Date\n",
       "0   Yes  40976440  2021-03-08T05:08:50.832Z\n",
       "1   Yes  41179271  2021-03-08T17:26:35.841Z"
      ]
     },
     "execution_count": 285,
     "metadata": {},
     "output_type": "execute_result"
    }
   ],
   "source": [
    "transaction['Payed'] = 'Yes'\n",
    "ordd['Payed'] = 'Yes'\n",
    "x = transaction.loc[:,['Payed','user_id','created_at']]\n",
    "y = ordd.loc[:,['Payed','user_id','created_at']]\n",
    "trans_ord= pd.concat([x,y],axis=0)\n",
    "trans_ord= trans_ord.rename(columns={'created_at': 'Payment_Date'})\n",
    "trans_ord.head(2)"
   ]
  },
  {
   "cell_type": "code",
   "execution_count": 286,
   "metadata": {},
   "outputs": [
    {
     "data": {
      "text/html": [
       "<div>\n",
       "<style scoped>\n",
       "    .dataframe tbody tr th:only-of-type {\n",
       "        vertical-align: middle;\n",
       "    }\n",
       "\n",
       "    .dataframe tbody tr th {\n",
       "        vertical-align: top;\n",
       "    }\n",
       "\n",
       "    .dataframe thead th {\n",
       "        text-align: right;\n",
       "    }\n",
       "</style>\n",
       "<table border=\"1\" class=\"dataframe\">\n",
       "  <thead>\n",
       "    <tr style=\"text-align: right;\">\n",
       "      <th></th>\n",
       "      <th>Unnamed: 0</th>\n",
       "      <th>gender</th>\n",
       "      <th>dob</th>\n",
       "      <th>commune</th>\n",
       "      <th>created_at</th>\n",
       "      <th>modified_at</th>\n",
       "      <th>department</th>\n",
       "      <th>education_level</th>\n",
       "      <th>university</th>\n",
       "      <th>study_domain</th>\n",
       "      <th>...</th>\n",
       "      <th>hear_AA_1</th>\n",
       "      <th>after_AA</th>\n",
       "      <th>quest_id</th>\n",
       "      <th>Commune_en</th>\n",
       "      <th>Commune_FR</th>\n",
       "      <th>Commune_Id</th>\n",
       "      <th>Departement</th>\n",
       "      <th>ADM1_PCODE</th>\n",
       "      <th>applicant_date</th>\n",
       "      <th>age</th>\n",
       "    </tr>\n",
       "  </thead>\n",
       "  <tbody>\n",
       "    <tr>\n",
       "      <th>0</th>\n",
       "      <td>0.0</td>\n",
       "      <td>male</td>\n",
       "      <td>1998-08-25 00:00:00</td>\n",
       "      <td>HT0111</td>\n",
       "      <td>2021-02-14T23:03:52.768400Z</td>\n",
       "      <td>2021-02-14T23:03:52.768462Z</td>\n",
       "      <td>NAN</td>\n",
       "      <td>unknown</td>\n",
       "      <td>unknown</td>\n",
       "      <td>[]</td>\n",
       "      <td>...</td>\n",
       "      <td>unknown</td>\n",
       "      <td>unknown</td>\n",
       "      <td>905dc006-ce95-11eb-b2f9-7c67a234f601</td>\n",
       "      <td>NaN</td>\n",
       "      <td>NaN</td>\n",
       "      <td>NaN</td>\n",
       "      <td>NaN</td>\n",
       "      <td>NaN</td>\n",
       "      <td>2021-02-14 00:00:00</td>\n",
       "      <td>22.0</td>\n",
       "    </tr>\n",
       "    <tr>\n",
       "      <th>1</th>\n",
       "      <td>1.0</td>\n",
       "      <td>female</td>\n",
       "      <td>1996-09-29 00:00:00</td>\n",
       "      <td>HT0111</td>\n",
       "      <td>2021-02-16T16:01:10.861844Z</td>\n",
       "      <td>2021-02-16T16:01:10.861899Z</td>\n",
       "      <td>HT01</td>\n",
       "      <td>Bachelors (bacc +4)</td>\n",
       "      <td>other</td>\n",
       "      <td>['other']</td>\n",
       "      <td>...</td>\n",
       "      <td>Friend</td>\n",
       "      <td>Finding a job/internship</td>\n",
       "      <td>905ddcf2-ce95-11eb-9a92-7c67a234f601</td>\n",
       "      <td>Port-au-Prince</td>\n",
       "      <td>Port-au-Prince</td>\n",
       "      <td>HT0111</td>\n",
       "      <td>West</td>\n",
       "      <td>HT01</td>\n",
       "      <td>2021-02-16 00:00:00</td>\n",
       "      <td>24.0</td>\n",
       "    </tr>\n",
       "  </tbody>\n",
       "</table>\n",
       "<p>2 rows × 24 columns</p>\n",
       "</div>"
      ],
      "text/plain": [
       "   Unnamed: 0  gender                  dob commune  \\\n",
       "0         0.0    male  1998-08-25 00:00:00  HT0111   \n",
       "1         1.0  female  1996-09-29 00:00:00  HT0111   \n",
       "\n",
       "                    created_at                  modified_at department  \\\n",
       "0  2021-02-14T23:03:52.768400Z  2021-02-14T23:03:52.768462Z        NAN   \n",
       "1  2021-02-16T16:01:10.861844Z  2021-02-16T16:01:10.861899Z       HT01   \n",
       "\n",
       "       education_level university study_domain  ... hear_AA_1  \\\n",
       "0              unknown    unknown           []  ...   unknown   \n",
       "1  Bachelors (bacc +4)      other    ['other']  ...    Friend   \n",
       "\n",
       "                   after_AA                              quest_id  \\\n",
       "0                   unknown  905dc006-ce95-11eb-b2f9-7c67a234f601   \n",
       "1  Finding a job/internship  905ddcf2-ce95-11eb-9a92-7c67a234f601   \n",
       "\n",
       "       Commune_en      Commune_FR Commune_Id Departement ADM1_PCODE  \\\n",
       "0             NaN             NaN        NaN         NaN        NaN   \n",
       "1  Port-au-Prince  Port-au-Prince     HT0111        West       HT01   \n",
       "\n",
       "        applicant_date   age  \n",
       "0  2021-02-14 00:00:00  22.0  \n",
       "1  2021-02-16 00:00:00  24.0  \n",
       "\n",
       "[2 rows x 24 columns]"
      ]
     },
     "execution_count": 286,
     "metadata": {},
     "output_type": "execute_result"
    }
   ],
   "source": [
    "first_merge.head(2)"
   ]
  },
  {
   "cell_type": "code",
   "execution_count": 287,
   "metadata": {},
   "outputs": [],
   "source": [
    "scnd_merge=pd.merge(enroll,ordd, how = 'left',on = ['quest_id'] )"
   ]
  },
  {
   "cell_type": "code",
   "execution_count": 288,
   "metadata": {},
   "outputs": [
    {
     "data": {
      "text/html": [
       "<div>\n",
       "<style scoped>\n",
       "    .dataframe tbody tr th:only-of-type {\n",
       "        vertical-align: middle;\n",
       "    }\n",
       "\n",
       "    .dataframe tbody tr th {\n",
       "        vertical-align: top;\n",
       "    }\n",
       "\n",
       "    .dataframe thead th {\n",
       "        text-align: right;\n",
       "    }\n",
       "</style>\n",
       "<table border=\"1\" class=\"dataframe\">\n",
       "  <thead>\n",
       "    <tr style=\"text-align: right;\">\n",
       "      <th></th>\n",
       "      <th>Unnamed: 0_x</th>\n",
       "      <th>created_at_x</th>\n",
       "      <th>expiry_date</th>\n",
       "      <th>user_id_x</th>\n",
       "      <th>course_name</th>\n",
       "      <th>course_id</th>\n",
       "      <th>percentage_completed</th>\n",
       "      <th>completed_at</th>\n",
       "      <th>expired</th>\n",
       "      <th>is_free_trial</th>\n",
       "      <th>...</th>\n",
       "      <th>product_name</th>\n",
       "      <th>product_id</th>\n",
       "      <th>amount_dollars</th>\n",
       "      <th>amount_cents</th>\n",
       "      <th>subscription</th>\n",
       "      <th>coupon_code</th>\n",
       "      <th>coupon_id</th>\n",
       "      <th>affiliate_referral_code</th>\n",
       "      <th>status</th>\n",
       "      <th>Payed</th>\n",
       "    </tr>\n",
       "  </thead>\n",
       "  <tbody>\n",
       "    <tr>\n",
       "      <th>0</th>\n",
       "      <td>0</td>\n",
       "      <td>2020-12-12T06:41:29.844Z</td>\n",
       "      <td>NaN</td>\n",
       "      <td>29816173</td>\n",
       "      <td>Entwodiksyon Nan Syans Done</td>\n",
       "      <td>1047613</td>\n",
       "      <td>0.0</td>\n",
       "      <td>NaN</td>\n",
       "      <td>False</td>\n",
       "      <td>True</td>\n",
       "      <td>...</td>\n",
       "      <td>Entwodiksyon Nan Syans Done</td>\n",
       "      <td>1100636.0</td>\n",
       "      <td>0.0</td>\n",
       "      <td>0.0</td>\n",
       "      <td>False</td>\n",
       "      <td>testing_course_1</td>\n",
       "      <td>6516246.0</td>\n",
       "      <td>NaN</td>\n",
       "      <td>Complete</td>\n",
       "      <td>Yes</td>\n",
       "    </tr>\n",
       "    <tr>\n",
       "      <th>1</th>\n",
       "      <td>0</td>\n",
       "      <td>2020-12-12T06:41:29.844Z</td>\n",
       "      <td>NaN</td>\n",
       "      <td>29816173</td>\n",
       "      <td>Entwodiksyon Nan Syans Done</td>\n",
       "      <td>1047613</td>\n",
       "      <td>0.0</td>\n",
       "      <td>NaN</td>\n",
       "      <td>False</td>\n",
       "      <td>True</td>\n",
       "      <td>...</td>\n",
       "      <td>Entwodiksyon Nan Syans Done</td>\n",
       "      <td>1100636.0</td>\n",
       "      <td>20.0</td>\n",
       "      <td>2000.0</td>\n",
       "      <td>False</td>\n",
       "      <td>NaN</td>\n",
       "      <td>NaN</td>\n",
       "      <td>NaN</td>\n",
       "      <td>Complete</td>\n",
       "      <td>Yes</td>\n",
       "    </tr>\n",
       "  </tbody>\n",
       "</table>\n",
       "<p>2 rows × 28 columns</p>\n",
       "</div>"
      ],
      "text/plain": [
       "   Unnamed: 0_x              created_at_x expiry_date  user_id_x  \\\n",
       "0             0  2020-12-12T06:41:29.844Z         NaN   29816173   \n",
       "1             0  2020-12-12T06:41:29.844Z         NaN   29816173   \n",
       "\n",
       "                   course_name  course_id  percentage_completed  completed_at  \\\n",
       "0  Entwodiksyon Nan Syans Done    1047613                   0.0           NaN   \n",
       "1  Entwodiksyon Nan Syans Done    1047613                   0.0           NaN   \n",
       "\n",
       "   expired  is_free_trial  ...                 product_name product_id  \\\n",
       "0    False           True  ...  Entwodiksyon Nan Syans Done  1100636.0   \n",
       "1    False           True  ...  Entwodiksyon Nan Syans Done  1100636.0   \n",
       "\n",
       "  amount_dollars amount_cents subscription       coupon_code  coupon_id  \\\n",
       "0            0.0          0.0        False  testing_course_1  6516246.0   \n",
       "1           20.0       2000.0        False               NaN        NaN   \n",
       "\n",
       "   affiliate_referral_code    status  Payed  \n",
       "0                      NaN  Complete    Yes  \n",
       "1                      NaN  Complete    Yes  \n",
       "\n",
       "[2 rows x 28 columns]"
      ]
     },
     "execution_count": 288,
     "metadata": {},
     "output_type": "execute_result"
    }
   ],
   "source": [
    "scnd_merge.head(2)"
   ]
  },
  {
   "cell_type": "code",
   "execution_count": 289,
   "metadata": {},
   "outputs": [
    {
     "data": {
      "text/html": [
       "<div>\n",
       "<style scoped>\n",
       "    .dataframe tbody tr th:only-of-type {\n",
       "        vertical-align: middle;\n",
       "    }\n",
       "\n",
       "    .dataframe tbody tr th {\n",
       "        vertical-align: top;\n",
       "    }\n",
       "\n",
       "    .dataframe thead th {\n",
       "        text-align: right;\n",
       "    }\n",
       "</style>\n",
       "<table border=\"1\" class=\"dataframe\">\n",
       "  <thead>\n",
       "    <tr style=\"text-align: right;\">\n",
       "      <th></th>\n",
       "      <th>Unnamed: 0</th>\n",
       "      <th>created_at</th>\n",
       "      <th>modified_at</th>\n",
       "      <th>user_id</th>\n",
       "      <th>course_id</th>\n",
       "      <th>transaction_id</th>\n",
       "      <th>Payed</th>\n",
       "    </tr>\n",
       "  </thead>\n",
       "  <tbody>\n",
       "    <tr>\n",
       "      <th>0</th>\n",
       "      <td>0</td>\n",
       "      <td>2021-03-08T05:08:50.832Z</td>\n",
       "      <td>2021-03-08T05:08:50.832Z</td>\n",
       "      <td>40976440</td>\n",
       "      <td>1047613</td>\n",
       "      <td>4641281952</td>\n",
       "      <td>Yes</td>\n",
       "    </tr>\n",
       "    <tr>\n",
       "      <th>1</th>\n",
       "      <td>1</td>\n",
       "      <td>2021-03-08T17:26:35.841Z</td>\n",
       "      <td>2021-03-08T17:26:35.841Z</td>\n",
       "      <td>41179271</td>\n",
       "      <td>1047613</td>\n",
       "      <td>4644270160</td>\n",
       "      <td>Yes</td>\n",
       "    </tr>\n",
       "  </tbody>\n",
       "</table>\n",
       "</div>"
      ],
      "text/plain": [
       "   Unnamed: 0                created_at               modified_at   user_id  \\\n",
       "0           0  2021-03-08T05:08:50.832Z  2021-03-08T05:08:50.832Z  40976440   \n",
       "1           1  2021-03-08T17:26:35.841Z  2021-03-08T17:26:35.841Z  41179271   \n",
       "\n",
       "   course_id  transaction_id Payed  \n",
       "0    1047613      4641281952   Yes  \n",
       "1    1047613      4644270160   Yes  "
      ]
     },
     "execution_count": 289,
     "metadata": {},
     "output_type": "execute_result"
    }
   ],
   "source": [
    "transaction.head(2)"
   ]
  },
  {
   "cell_type": "code",
   "execution_count": 290,
   "metadata": {},
   "outputs": [],
   "source": [
    "third_tab=pd.merge(left=scnd_merge,right=transaction, how = 'left', on=['course_id'])"
   ]
  },
  {
   "cell_type": "code",
   "execution_count": 291,
   "metadata": {},
   "outputs": [
    {
     "data": {
      "text/html": [
       "<div>\n",
       "<style scoped>\n",
       "    .dataframe tbody tr th:only-of-type {\n",
       "        vertical-align: middle;\n",
       "    }\n",
       "\n",
       "    .dataframe tbody tr th {\n",
       "        vertical-align: top;\n",
       "    }\n",
       "\n",
       "    .dataframe thead th {\n",
       "        text-align: right;\n",
       "    }\n",
       "</style>\n",
       "<table border=\"1\" class=\"dataframe\">\n",
       "  <thead>\n",
       "    <tr style=\"text-align: right;\">\n",
       "      <th></th>\n",
       "      <th>Unnamed: 0_x</th>\n",
       "      <th>created_at_x</th>\n",
       "      <th>expiry_date</th>\n",
       "      <th>user_id_x</th>\n",
       "      <th>course_name</th>\n",
       "      <th>course_id</th>\n",
       "      <th>percentage_completed</th>\n",
       "      <th>completed_at</th>\n",
       "      <th>expired</th>\n",
       "      <th>is_free_trial</th>\n",
       "      <th>...</th>\n",
       "      <th>coupon_id</th>\n",
       "      <th>affiliate_referral_code</th>\n",
       "      <th>status</th>\n",
       "      <th>Payed_x</th>\n",
       "      <th>Unnamed: 0</th>\n",
       "      <th>created_at</th>\n",
       "      <th>modified_at</th>\n",
       "      <th>user_id</th>\n",
       "      <th>transaction_id</th>\n",
       "      <th>Payed_y</th>\n",
       "    </tr>\n",
       "  </thead>\n",
       "  <tbody>\n",
       "    <tr>\n",
       "      <th>0</th>\n",
       "      <td>0</td>\n",
       "      <td>2020-12-12T06:41:29.844Z</td>\n",
       "      <td>NaN</td>\n",
       "      <td>29816173</td>\n",
       "      <td>Entwodiksyon Nan Syans Done</td>\n",
       "      <td>1047613</td>\n",
       "      <td>0.0</td>\n",
       "      <td>NaN</td>\n",
       "      <td>False</td>\n",
       "      <td>True</td>\n",
       "      <td>...</td>\n",
       "      <td>6516246.0</td>\n",
       "      <td>NaN</td>\n",
       "      <td>Complete</td>\n",
       "      <td>Yes</td>\n",
       "      <td>0</td>\n",
       "      <td>2021-03-08T05:08:50.832Z</td>\n",
       "      <td>2021-03-08T05:08:50.832Z</td>\n",
       "      <td>40976440</td>\n",
       "      <td>4641281952</td>\n",
       "      <td>Yes</td>\n",
       "    </tr>\n",
       "  </tbody>\n",
       "</table>\n",
       "<p>1 rows × 34 columns</p>\n",
       "</div>"
      ],
      "text/plain": [
       "   Unnamed: 0_x              created_at_x expiry_date  user_id_x  \\\n",
       "0             0  2020-12-12T06:41:29.844Z         NaN   29816173   \n",
       "\n",
       "                   course_name  course_id  percentage_completed  completed_at  \\\n",
       "0  Entwodiksyon Nan Syans Done    1047613                   0.0           NaN   \n",
       "\n",
       "   expired  is_free_trial  ...  coupon_id affiliate_referral_code    status  \\\n",
       "0    False           True  ...  6516246.0                     NaN  Complete   \n",
       "\n",
       "  Payed_x Unnamed: 0                created_at               modified_at  \\\n",
       "0     Yes          0  2021-03-08T05:08:50.832Z  2021-03-08T05:08:50.832Z   \n",
       "\n",
       "    user_id transaction_id  Payed_y  \n",
       "0  40976440     4641281952      Yes  \n",
       "\n",
       "[1 rows x 34 columns]"
      ]
     },
     "execution_count": 291,
     "metadata": {},
     "output_type": "execute_result"
    }
   ],
   "source": [
    "third_tab.head(1)"
   ]
  },
  {
   "cell_type": "code",
   "execution_count": 292,
   "metadata": {},
   "outputs": [
    {
     "data": {
      "text/html": [
       "<div>\n",
       "<style scoped>\n",
       "    .dataframe tbody tr th:only-of-type {\n",
       "        vertical-align: middle;\n",
       "    }\n",
       "\n",
       "    .dataframe tbody tr th {\n",
       "        vertical-align: top;\n",
       "    }\n",
       "\n",
       "    .dataframe thead th {\n",
       "        text-align: right;\n",
       "    }\n",
       "</style>\n",
       "<table border=\"1\" class=\"dataframe\">\n",
       "  <thead>\n",
       "    <tr style=\"text-align: right;\">\n",
       "      <th></th>\n",
       "      <th>Unnamed: 0</th>\n",
       "      <th>gender</th>\n",
       "      <th>dob</th>\n",
       "      <th>commune</th>\n",
       "      <th>created_at</th>\n",
       "      <th>modified_at</th>\n",
       "      <th>department</th>\n",
       "      <th>education_level</th>\n",
       "      <th>university</th>\n",
       "      <th>study_domain</th>\n",
       "      <th>...</th>\n",
       "      <th>hear_AA_1</th>\n",
       "      <th>after_AA</th>\n",
       "      <th>quest_id</th>\n",
       "      <th>Commune_en</th>\n",
       "      <th>Commune_FR</th>\n",
       "      <th>Commune_Id</th>\n",
       "      <th>Departement</th>\n",
       "      <th>ADM1_PCODE</th>\n",
       "      <th>applicant_date</th>\n",
       "      <th>age</th>\n",
       "    </tr>\n",
       "  </thead>\n",
       "  <tbody>\n",
       "    <tr>\n",
       "      <th>0</th>\n",
       "      <td>0.0</td>\n",
       "      <td>male</td>\n",
       "      <td>1998-08-25 00:00:00</td>\n",
       "      <td>HT0111</td>\n",
       "      <td>2021-02-14T23:03:52.768400Z</td>\n",
       "      <td>2021-02-14T23:03:52.768462Z</td>\n",
       "      <td>NAN</td>\n",
       "      <td>unknown</td>\n",
       "      <td>unknown</td>\n",
       "      <td>[]</td>\n",
       "      <td>...</td>\n",
       "      <td>unknown</td>\n",
       "      <td>unknown</td>\n",
       "      <td>905dc006-ce95-11eb-b2f9-7c67a234f601</td>\n",
       "      <td>NaN</td>\n",
       "      <td>NaN</td>\n",
       "      <td>NaN</td>\n",
       "      <td>NaN</td>\n",
       "      <td>NaN</td>\n",
       "      <td>2021-02-14 00:00:00</td>\n",
       "      <td>22.0</td>\n",
       "    </tr>\n",
       "  </tbody>\n",
       "</table>\n",
       "<p>1 rows × 24 columns</p>\n",
       "</div>"
      ],
      "text/plain": [
       "   Unnamed: 0 gender                  dob commune  \\\n",
       "0         0.0   male  1998-08-25 00:00:00  HT0111   \n",
       "\n",
       "                    created_at                  modified_at department  \\\n",
       "0  2021-02-14T23:03:52.768400Z  2021-02-14T23:03:52.768462Z        NAN   \n",
       "\n",
       "  education_level university study_domain  ... hear_AA_1 after_AA  \\\n",
       "0         unknown    unknown           []  ...   unknown  unknown   \n",
       "\n",
       "                               quest_id Commune_en Commune_FR Commune_Id  \\\n",
       "0  905dc006-ce95-11eb-b2f9-7c67a234f601        NaN        NaN        NaN   \n",
       "\n",
       "  Departement ADM1_PCODE       applicant_date   age  \n",
       "0         NaN        NaN  2021-02-14 00:00:00  22.0  \n",
       "\n",
       "[1 rows x 24 columns]"
      ]
     },
     "execution_count": 292,
     "metadata": {},
     "output_type": "execute_result"
    }
   ],
   "source": [
    "first_merge.head(1)"
   ]
  },
  {
   "cell_type": "code",
   "execution_count": 293,
   "metadata": {},
   "outputs": [
    {
     "data": {
      "text/html": [
       "<div>\n",
       "<style scoped>\n",
       "    .dataframe tbody tr th:only-of-type {\n",
       "        vertical-align: middle;\n",
       "    }\n",
       "\n",
       "    .dataframe tbody tr th {\n",
       "        vertical-align: top;\n",
       "    }\n",
       "\n",
       "    .dataframe thead th {\n",
       "        text-align: right;\n",
       "    }\n",
       "</style>\n",
       "<table border=\"1\" class=\"dataframe\">\n",
       "  <thead>\n",
       "    <tr style=\"text-align: right;\">\n",
       "      <th></th>\n",
       "      <th>Accounting</th>\n",
       "      <th>Computer Science</th>\n",
       "      <th>Economics</th>\n",
       "      <th>Electrical Engineering</th>\n",
       "      <th>Law</th>\n",
       "      <th>Management</th>\n",
       "      <th>Medicine</th>\n",
       "      <th>Statistics</th>\n",
       "      <th>other</th>\n",
       "    </tr>\n",
       "    <tr>\n",
       "      <th>quest_id</th>\n",
       "      <th></th>\n",
       "      <th></th>\n",
       "      <th></th>\n",
       "      <th></th>\n",
       "      <th></th>\n",
       "      <th></th>\n",
       "      <th></th>\n",
       "      <th></th>\n",
       "      <th></th>\n",
       "    </tr>\n",
       "  </thead>\n",
       "  <tbody>\n",
       "    <tr>\n",
       "      <th>905ddcf2-ce95-11eb-9a92-7c67a234f601</th>\n",
       "      <td>0</td>\n",
       "      <td>0</td>\n",
       "      <td>0</td>\n",
       "      <td>0</td>\n",
       "      <td>0</td>\n",
       "      <td>0</td>\n",
       "      <td>0</td>\n",
       "      <td>0</td>\n",
       "      <td>1</td>\n",
       "    </tr>\n",
       "  </tbody>\n",
       "</table>\n",
       "</div>"
      ],
      "text/plain": [
       "                                      Accounting  Computer Science  Economics  \\\n",
       "quest_id                                                                        \n",
       "905ddcf2-ce95-11eb-9a92-7c67a234f601           0                 0          0   \n",
       "\n",
       "                                      Electrical Engineering  Law  Management  \\\n",
       "quest_id                                                                        \n",
       "905ddcf2-ce95-11eb-9a92-7c67a234f601                       0    0           0   \n",
       "\n",
       "                                      Medicine  Statistics  other  \n",
       "quest_id                                                           \n",
       "905ddcf2-ce95-11eb-9a92-7c67a234f601         0           0      1  "
      ]
     },
     "execution_count": 293,
     "metadata": {},
     "output_type": "execute_result"
    }
   ],
   "source": [
    "study_domain1.head(1)"
   ]
  },
  {
   "cell_type": "code",
   "execution_count": 294,
   "metadata": {},
   "outputs": [],
   "source": [
    "study_merge=pd.merge(left=first_merge,right=study_domain1, how = 'left', on=['quest_id'])"
   ]
  },
  {
   "cell_type": "code",
   "execution_count": 295,
   "metadata": {},
   "outputs": [
    {
     "data": {
      "text/html": [
       "<div>\n",
       "<style scoped>\n",
       "    .dataframe tbody tr th:only-of-type {\n",
       "        vertical-align: middle;\n",
       "    }\n",
       "\n",
       "    .dataframe tbody tr th {\n",
       "        vertical-align: top;\n",
       "    }\n",
       "\n",
       "    .dataframe thead th {\n",
       "        text-align: right;\n",
       "    }\n",
       "</style>\n",
       "<table border=\"1\" class=\"dataframe\">\n",
       "  <thead>\n",
       "    <tr style=\"text-align: right;\">\n",
       "      <th></th>\n",
       "      <th>Unnamed: 0</th>\n",
       "      <th>gender</th>\n",
       "      <th>dob</th>\n",
       "      <th>commune</th>\n",
       "      <th>created_at</th>\n",
       "      <th>modified_at</th>\n",
       "      <th>department</th>\n",
       "      <th>education_level</th>\n",
       "      <th>university</th>\n",
       "      <th>study_domain</th>\n",
       "      <th>...</th>\n",
       "      <th>age</th>\n",
       "      <th>Accounting</th>\n",
       "      <th>Computer Science</th>\n",
       "      <th>Economics</th>\n",
       "      <th>Electrical Engineering</th>\n",
       "      <th>Law</th>\n",
       "      <th>Management</th>\n",
       "      <th>Medicine</th>\n",
       "      <th>Statistics</th>\n",
       "      <th>other</th>\n",
       "    </tr>\n",
       "  </thead>\n",
       "  <tbody>\n",
       "    <tr>\n",
       "      <th>0</th>\n",
       "      <td>0.0</td>\n",
       "      <td>male</td>\n",
       "      <td>1998-08-25 00:00:00</td>\n",
       "      <td>HT0111</td>\n",
       "      <td>2021-02-14T23:03:52.768400Z</td>\n",
       "      <td>2021-02-14T23:03:52.768462Z</td>\n",
       "      <td>NAN</td>\n",
       "      <td>unknown</td>\n",
       "      <td>unknown</td>\n",
       "      <td>[]</td>\n",
       "      <td>...</td>\n",
       "      <td>22.0</td>\n",
       "      <td>NaN</td>\n",
       "      <td>NaN</td>\n",
       "      <td>NaN</td>\n",
       "      <td>NaN</td>\n",
       "      <td>NaN</td>\n",
       "      <td>NaN</td>\n",
       "      <td>NaN</td>\n",
       "      <td>NaN</td>\n",
       "      <td>NaN</td>\n",
       "    </tr>\n",
       "    <tr>\n",
       "      <th>1</th>\n",
       "      <td>1.0</td>\n",
       "      <td>female</td>\n",
       "      <td>1996-09-29 00:00:00</td>\n",
       "      <td>HT0111</td>\n",
       "      <td>2021-02-16T16:01:10.861844Z</td>\n",
       "      <td>2021-02-16T16:01:10.861899Z</td>\n",
       "      <td>HT01</td>\n",
       "      <td>Bachelors (bacc +4)</td>\n",
       "      <td>other</td>\n",
       "      <td>['other']</td>\n",
       "      <td>...</td>\n",
       "      <td>24.0</td>\n",
       "      <td>0.0</td>\n",
       "      <td>0.0</td>\n",
       "      <td>0.0</td>\n",
       "      <td>0.0</td>\n",
       "      <td>0.0</td>\n",
       "      <td>0.0</td>\n",
       "      <td>0.0</td>\n",
       "      <td>0.0</td>\n",
       "      <td>1.0</td>\n",
       "    </tr>\n",
       "    <tr>\n",
       "      <th>2</th>\n",
       "      <td>2.0</td>\n",
       "      <td>male</td>\n",
       "      <td>1996-05-17 00:00:00</td>\n",
       "      <td>HT0111</td>\n",
       "      <td>2021-02-16T16:56:30.579504Z</td>\n",
       "      <td>2021-02-16T16:56:30.579563Z</td>\n",
       "      <td>HT01</td>\n",
       "      <td>Bachelors (bacc +4)</td>\n",
       "      <td>Université d'Etat d'Haïti (UEH)</td>\n",
       "      <td>[]</td>\n",
       "      <td>...</td>\n",
       "      <td>24.0</td>\n",
       "      <td>NaN</td>\n",
       "      <td>NaN</td>\n",
       "      <td>NaN</td>\n",
       "      <td>NaN</td>\n",
       "      <td>NaN</td>\n",
       "      <td>NaN</td>\n",
       "      <td>NaN</td>\n",
       "      <td>NaN</td>\n",
       "      <td>NaN</td>\n",
       "    </tr>\n",
       "    <tr>\n",
       "      <th>3</th>\n",
       "      <td>3.0</td>\n",
       "      <td>male</td>\n",
       "      <td>1996-11-24 00:00:00</td>\n",
       "      <td>HT0111</td>\n",
       "      <td>2021-02-16T16:57:55.754541Z</td>\n",
       "      <td>2021-02-16T16:57:55.754582Z</td>\n",
       "      <td>HT01</td>\n",
       "      <td>Bachelors (bacc +4)</td>\n",
       "      <td>Ecole Supérieure d'Infotronique d'Haïti (ESIH)</td>\n",
       "      <td>['item1', 'item6']</td>\n",
       "      <td>...</td>\n",
       "      <td>24.0</td>\n",
       "      <td>0.0</td>\n",
       "      <td>1.0</td>\n",
       "      <td>0.0</td>\n",
       "      <td>0.0</td>\n",
       "      <td>0.0</td>\n",
       "      <td>1.0</td>\n",
       "      <td>0.0</td>\n",
       "      <td>0.0</td>\n",
       "      <td>0.0</td>\n",
       "    </tr>\n",
       "    <tr>\n",
       "      <th>4</th>\n",
       "      <td>4.0</td>\n",
       "      <td>male</td>\n",
       "      <td>1997-07-20 00:00:00</td>\n",
       "      <td>HT0111</td>\n",
       "      <td>2021-02-16T17:05:40.907948Z</td>\n",
       "      <td>2021-02-16T17:05:40.907982Z</td>\n",
       "      <td>HT01</td>\n",
       "      <td>High School (16 years)</td>\n",
       "      <td>unknown</td>\n",
       "      <td>['other']</td>\n",
       "      <td>...</td>\n",
       "      <td>23.0</td>\n",
       "      <td>0.0</td>\n",
       "      <td>0.0</td>\n",
       "      <td>0.0</td>\n",
       "      <td>0.0</td>\n",
       "      <td>0.0</td>\n",
       "      <td>0.0</td>\n",
       "      <td>0.0</td>\n",
       "      <td>0.0</td>\n",
       "      <td>1.0</td>\n",
       "    </tr>\n",
       "  </tbody>\n",
       "</table>\n",
       "<p>5 rows × 33 columns</p>\n",
       "</div>"
      ],
      "text/plain": [
       "   Unnamed: 0  gender                  dob commune  \\\n",
       "0         0.0    male  1998-08-25 00:00:00  HT0111   \n",
       "1         1.0  female  1996-09-29 00:00:00  HT0111   \n",
       "2         2.0    male  1996-05-17 00:00:00  HT0111   \n",
       "3         3.0    male  1996-11-24 00:00:00  HT0111   \n",
       "4         4.0    male  1997-07-20 00:00:00  HT0111   \n",
       "\n",
       "                    created_at                  modified_at department  \\\n",
       "0  2021-02-14T23:03:52.768400Z  2021-02-14T23:03:52.768462Z        NAN   \n",
       "1  2021-02-16T16:01:10.861844Z  2021-02-16T16:01:10.861899Z       HT01   \n",
       "2  2021-02-16T16:56:30.579504Z  2021-02-16T16:56:30.579563Z       HT01   \n",
       "3  2021-02-16T16:57:55.754541Z  2021-02-16T16:57:55.754582Z       HT01   \n",
       "4  2021-02-16T17:05:40.907948Z  2021-02-16T17:05:40.907982Z       HT01   \n",
       "\n",
       "          education_level                                      university  \\\n",
       "0                 unknown                                         unknown   \n",
       "1     Bachelors (bacc +4)                                           other   \n",
       "2     Bachelors (bacc +4)                 Université d'Etat d'Haïti (UEH)   \n",
       "3     Bachelors (bacc +4)  Ecole Supérieure d'Infotronique d'Haïti (ESIH)   \n",
       "4  High School (16 years)                                         unknown   \n",
       "\n",
       "         study_domain  ...   age Accounting Computer Science Economics  \\\n",
       "0                  []  ...  22.0        NaN              NaN       NaN   \n",
       "1           ['other']  ...  24.0        0.0              0.0       0.0   \n",
       "2                  []  ...  24.0        NaN              NaN       NaN   \n",
       "3  ['item1', 'item6']  ...  24.0        0.0              1.0       0.0   \n",
       "4           ['other']  ...  23.0        0.0              0.0       0.0   \n",
       "\n",
       "  Electrical Engineering  Law Management Medicine Statistics other  \n",
       "0                    NaN  NaN        NaN      NaN        NaN   NaN  \n",
       "1                    0.0  0.0        0.0      0.0        0.0   1.0  \n",
       "2                    NaN  NaN        NaN      NaN        NaN   NaN  \n",
       "3                    0.0  0.0        1.0      0.0        0.0   0.0  \n",
       "4                    0.0  0.0        0.0      0.0        0.0   1.0  \n",
       "\n",
       "[5 rows x 33 columns]"
      ]
     },
     "execution_count": 295,
     "metadata": {},
     "output_type": "execute_result"
    }
   ],
   "source": [
    "study_merge.head()"
   ]
  },
  {
   "cell_type": "code",
   "execution_count": 296,
   "metadata": {},
   "outputs": [],
   "source": [
    "study_tech=pd.merge(left=study_merge,right=technologyyy, how = 'left', on=['quest_id'])"
   ]
  },
  {
   "cell_type": "code",
   "execution_count": 297,
   "metadata": {},
   "outputs": [
    {
     "data": {
      "text/html": [
       "<div>\n",
       "<style scoped>\n",
       "    .dataframe tbody tr th:only-of-type {\n",
       "        vertical-align: middle;\n",
       "    }\n",
       "\n",
       "    .dataframe tbody tr th {\n",
       "        vertical-align: top;\n",
       "    }\n",
       "\n",
       "    .dataframe thead th {\n",
       "        text-align: right;\n",
       "    }\n",
       "</style>\n",
       "<table border=\"1\" class=\"dataframe\">\n",
       "  <thead>\n",
       "    <tr style=\"text-align: right;\">\n",
       "      <th></th>\n",
       "      <th>Unnamed: 0</th>\n",
       "      <th>gender</th>\n",
       "      <th>dob</th>\n",
       "      <th>commune</th>\n",
       "      <th>created_at</th>\n",
       "      <th>modified_at</th>\n",
       "      <th>department</th>\n",
       "      <th>education_level</th>\n",
       "      <th>university</th>\n",
       "      <th>study_domain</th>\n",
       "      <th>...</th>\n",
       "      <th>Git</th>\n",
       "      <th>Java</th>\n",
       "      <th>JavaScript</th>\n",
       "      <th>PHP</th>\n",
       "      <th>PowerBI or Tableau</th>\n",
       "      <th>Python</th>\n",
       "      <th>R</th>\n",
       "      <th>SQL</th>\n",
       "      <th>VBA</th>\n",
       "      <th>other_y</th>\n",
       "    </tr>\n",
       "  </thead>\n",
       "  <tbody>\n",
       "    <tr>\n",
       "      <th>0</th>\n",
       "      <td>0.0</td>\n",
       "      <td>male</td>\n",
       "      <td>1998-08-25 00:00:00</td>\n",
       "      <td>HT0111</td>\n",
       "      <td>2021-02-14T23:03:52.768400Z</td>\n",
       "      <td>2021-02-14T23:03:52.768462Z</td>\n",
       "      <td>NAN</td>\n",
       "      <td>unknown</td>\n",
       "      <td>unknown</td>\n",
       "      <td>[]</td>\n",
       "      <td>...</td>\n",
       "      <td>NaN</td>\n",
       "      <td>NaN</td>\n",
       "      <td>NaN</td>\n",
       "      <td>NaN</td>\n",
       "      <td>NaN</td>\n",
       "      <td>NaN</td>\n",
       "      <td>NaN</td>\n",
       "      <td>NaN</td>\n",
       "      <td>NaN</td>\n",
       "      <td>NaN</td>\n",
       "    </tr>\n",
       "    <tr>\n",
       "      <th>1</th>\n",
       "      <td>1.0</td>\n",
       "      <td>female</td>\n",
       "      <td>1996-09-29 00:00:00</td>\n",
       "      <td>HT0111</td>\n",
       "      <td>2021-02-16T16:01:10.861844Z</td>\n",
       "      <td>2021-02-16T16:01:10.861899Z</td>\n",
       "      <td>HT01</td>\n",
       "      <td>Bachelors (bacc +4)</td>\n",
       "      <td>other</td>\n",
       "      <td>['other']</td>\n",
       "      <td>...</td>\n",
       "      <td>0.0</td>\n",
       "      <td>0.0</td>\n",
       "      <td>0.0</td>\n",
       "      <td>0.0</td>\n",
       "      <td>0.0</td>\n",
       "      <td>0.0</td>\n",
       "      <td>1.0</td>\n",
       "      <td>0.0</td>\n",
       "      <td>0.0</td>\n",
       "      <td>0.0</td>\n",
       "    </tr>\n",
       "  </tbody>\n",
       "</table>\n",
       "<p>2 rows × 45 columns</p>\n",
       "</div>"
      ],
      "text/plain": [
       "   Unnamed: 0  gender                  dob commune  \\\n",
       "0         0.0    male  1998-08-25 00:00:00  HT0111   \n",
       "1         1.0  female  1996-09-29 00:00:00  HT0111   \n",
       "\n",
       "                    created_at                  modified_at department  \\\n",
       "0  2021-02-14T23:03:52.768400Z  2021-02-14T23:03:52.768462Z        NAN   \n",
       "1  2021-02-16T16:01:10.861844Z  2021-02-16T16:01:10.861899Z       HT01   \n",
       "\n",
       "       education_level university study_domain  ...  Git Java JavaScript  PHP  \\\n",
       "0              unknown    unknown           []  ...  NaN  NaN        NaN  NaN   \n",
       "1  Bachelors (bacc +4)      other    ['other']  ...  0.0  0.0        0.0  0.0   \n",
       "\n",
       "  PowerBI or Tableau Python    R  SQL  VBA other_y  \n",
       "0                NaN    NaN  NaN  NaN  NaN     NaN  \n",
       "1                0.0    0.0  1.0  0.0  0.0     0.0  \n",
       "\n",
       "[2 rows x 45 columns]"
      ]
     },
     "execution_count": 297,
     "metadata": {},
     "output_type": "execute_result"
    }
   ],
   "source": [
    "study_tech.head(2)"
   ]
  },
  {
   "cell_type": "code",
   "execution_count": 298,
   "metadata": {},
   "outputs": [
    {
     "data": {
      "text/plain": [
       "(250, 45)"
      ]
     },
     "execution_count": 298,
     "metadata": {},
     "output_type": "execute_result"
    }
   ],
   "source": [
    "study_tech.shape"
   ]
  },
  {
   "cell_type": "code",
   "execution_count": 299,
   "metadata": {},
   "outputs": [
    {
     "data": {
      "text/html": [
       "<div>\n",
       "<style scoped>\n",
       "    .dataframe tbody tr th:only-of-type {\n",
       "        vertical-align: middle;\n",
       "    }\n",
       "\n",
       "    .dataframe tbody tr th {\n",
       "        vertical-align: top;\n",
       "    }\n",
       "\n",
       "    .dataframe thead th {\n",
       "        text-align: right;\n",
       "    }\n",
       "</style>\n",
       "<table border=\"1\" class=\"dataframe\">\n",
       "  <thead>\n",
       "    <tr style=\"text-align: right;\">\n",
       "      <th></th>\n",
       "      <th>Unnamed: 0</th>\n",
       "      <th>enroll_date</th>\n",
       "      <th>expiry_date</th>\n",
       "      <th>user_id</th>\n",
       "      <th>course_name</th>\n",
       "      <th>course_id</th>\n",
       "      <th>percentage_completed</th>\n",
       "      <th>completed_at</th>\n",
       "      <th>expired</th>\n",
       "      <th>is_free_trial</th>\n",
       "      <th>completed</th>\n",
       "      <th>started_at</th>\n",
       "      <th>activated_at</th>\n",
       "      <th>updated_at</th>\n",
       "      <th>quest_id</th>\n",
       "    </tr>\n",
       "  </thead>\n",
       "  <tbody>\n",
       "    <tr>\n",
       "      <th>0</th>\n",
       "      <td>0</td>\n",
       "      <td>2020-12-12T06:41:29.844Z</td>\n",
       "      <td>NaN</td>\n",
       "      <td>29816173</td>\n",
       "      <td>Entwodiksyon Nan Syans Done</td>\n",
       "      <td>1047613</td>\n",
       "      <td>0.0</td>\n",
       "      <td>NaN</td>\n",
       "      <td>False</td>\n",
       "      <td>True</td>\n",
       "      <td>False</td>\n",
       "      <td>NaN</td>\n",
       "      <td>NaN</td>\n",
       "      <td>2020-12-12T06:41:29.844Z</td>\n",
       "      <td>NaN</td>\n",
       "    </tr>\n",
       "    <tr>\n",
       "      <th>1</th>\n",
       "      <td>1</td>\n",
       "      <td>2020-12-13T14:41:17.720Z</td>\n",
       "      <td>NaN</td>\n",
       "      <td>35229766</td>\n",
       "      <td>Entwodiksyon Nan Syans Done</td>\n",
       "      <td>1047613</td>\n",
       "      <td>0.0</td>\n",
       "      <td>NaN</td>\n",
       "      <td>False</td>\n",
       "      <td>True</td>\n",
       "      <td>False</td>\n",
       "      <td>NaN</td>\n",
       "      <td>NaN</td>\n",
       "      <td>2020-12-13T14:41:17.720Z</td>\n",
       "      <td>NaN</td>\n",
       "    </tr>\n",
       "  </tbody>\n",
       "</table>\n",
       "</div>"
      ],
      "text/plain": [
       "   Unnamed: 0               enroll_date expiry_date   user_id  \\\n",
       "0           0  2020-12-12T06:41:29.844Z         NaN  29816173   \n",
       "1           1  2020-12-13T14:41:17.720Z         NaN  35229766   \n",
       "\n",
       "                   course_name  course_id  percentage_completed  completed_at  \\\n",
       "0  Entwodiksyon Nan Syans Done    1047613                   0.0           NaN   \n",
       "1  Entwodiksyon Nan Syans Done    1047613                   0.0           NaN   \n",
       "\n",
       "   expired  is_free_trial  completed started_at activated_at  \\\n",
       "0    False           True      False        NaN          NaN   \n",
       "1    False           True      False        NaN          NaN   \n",
       "\n",
       "                 updated_at quest_id  \n",
       "0  2020-12-12T06:41:29.844Z      NaN  \n",
       "1  2020-12-13T14:41:17.720Z      NaN  "
      ]
     },
     "execution_count": 299,
     "metadata": {},
     "output_type": "execute_result"
    }
   ],
   "source": [
    "enroll.rename(columns={\"created_at\": \"enroll_date\"},inplace=True)\n",
    "enroll.head(2)"
   ]
  },
  {
   "cell_type": "code",
   "execution_count": 300,
   "metadata": {},
   "outputs": [],
   "source": [
    "enroll_merge=pd.merge(left=study_tech,right=enroll, how = 'left', on=['quest_id'])"
   ]
  },
  {
   "cell_type": "code",
   "execution_count": 301,
   "metadata": {},
   "outputs": [],
   "source": [
    "#enroll_merge.head(2)"
   ]
  },
  {
   "cell_type": "code",
   "execution_count": 302,
   "metadata": {},
   "outputs": [
    {
     "data": {
      "text/html": [
       "<div>\n",
       "<style scoped>\n",
       "    .dataframe tbody tr th:only-of-type {\n",
       "        vertical-align: middle;\n",
       "    }\n",
       "\n",
       "    .dataframe tbody tr th {\n",
       "        vertical-align: top;\n",
       "    }\n",
       "\n",
       "    .dataframe thead th {\n",
       "        text-align: right;\n",
       "    }\n",
       "</style>\n",
       "<table border=\"1\" class=\"dataframe\">\n",
       "  <thead>\n",
       "    <tr style=\"text-align: right;\">\n",
       "      <th></th>\n",
       "      <th>Unnamed: 0_x</th>\n",
       "      <th>gender</th>\n",
       "      <th>dob</th>\n",
       "      <th>commune</th>\n",
       "      <th>created_at</th>\n",
       "      <th>modified_at</th>\n",
       "      <th>department</th>\n",
       "      <th>education_level</th>\n",
       "      <th>university</th>\n",
       "      <th>study_domain</th>\n",
       "      <th>...</th>\n",
       "      <th>course_name</th>\n",
       "      <th>course_id</th>\n",
       "      <th>percentage_completed</th>\n",
       "      <th>completed_at</th>\n",
       "      <th>expired</th>\n",
       "      <th>is_free_trial</th>\n",
       "      <th>completed</th>\n",
       "      <th>started_at</th>\n",
       "      <th>activated_at</th>\n",
       "      <th>updated_at</th>\n",
       "    </tr>\n",
       "  </thead>\n",
       "  <tbody>\n",
       "    <tr>\n",
       "      <th>0</th>\n",
       "      <td>0.0</td>\n",
       "      <td>male</td>\n",
       "      <td>1998-08-25 00:00:00</td>\n",
       "      <td>HT0111</td>\n",
       "      <td>2021-02-14T23:03:52.768400Z</td>\n",
       "      <td>2021-02-14T23:03:52.768462Z</td>\n",
       "      <td>NAN</td>\n",
       "      <td>unknown</td>\n",
       "      <td>unknown</td>\n",
       "      <td>[]</td>\n",
       "      <td>...</td>\n",
       "      <td>Entwodiksyon Nan Syans Done</td>\n",
       "      <td>1047613.0</td>\n",
       "      <td>0.0</td>\n",
       "      <td>NaN</td>\n",
       "      <td>False</td>\n",
       "      <td>True</td>\n",
       "      <td>False</td>\n",
       "      <td>2021-02-17T08:43:53.457Z</td>\n",
       "      <td>NaN</td>\n",
       "      <td>2021-02-17T08:44:09.561Z</td>\n",
       "    </tr>\n",
       "    <tr>\n",
       "      <th>1</th>\n",
       "      <td>1.0</td>\n",
       "      <td>female</td>\n",
       "      <td>1996-09-29 00:00:00</td>\n",
       "      <td>HT0111</td>\n",
       "      <td>2021-02-16T16:01:10.861844Z</td>\n",
       "      <td>2021-02-16T16:01:10.861899Z</td>\n",
       "      <td>HT01</td>\n",
       "      <td>Bachelors (bacc +4)</td>\n",
       "      <td>other</td>\n",
       "      <td>['other']</td>\n",
       "      <td>...</td>\n",
       "      <td>NaN</td>\n",
       "      <td>NaN</td>\n",
       "      <td>NaN</td>\n",
       "      <td>NaN</td>\n",
       "      <td>NaN</td>\n",
       "      <td>NaN</td>\n",
       "      <td>NaN</td>\n",
       "      <td>NaN</td>\n",
       "      <td>NaN</td>\n",
       "      <td>NaN</td>\n",
       "    </tr>\n",
       "  </tbody>\n",
       "</table>\n",
       "<p>2 rows × 59 columns</p>\n",
       "</div>"
      ],
      "text/plain": [
       "   Unnamed: 0_x  gender                  dob commune  \\\n",
       "0           0.0    male  1998-08-25 00:00:00  HT0111   \n",
       "1           1.0  female  1996-09-29 00:00:00  HT0111   \n",
       "\n",
       "                    created_at                  modified_at department  \\\n",
       "0  2021-02-14T23:03:52.768400Z  2021-02-14T23:03:52.768462Z        NAN   \n",
       "1  2021-02-16T16:01:10.861844Z  2021-02-16T16:01:10.861899Z       HT01   \n",
       "\n",
       "       education_level university study_domain  ...  \\\n",
       "0              unknown    unknown           []  ...   \n",
       "1  Bachelors (bacc +4)      other    ['other']  ...   \n",
       "\n",
       "                   course_name  course_id percentage_completed completed_at  \\\n",
       "0  Entwodiksyon Nan Syans Done  1047613.0                  0.0          NaN   \n",
       "1                          NaN        NaN                  NaN          NaN   \n",
       "\n",
       "  expired is_free_trial completed                started_at activated_at  \\\n",
       "0   False          True     False  2021-02-17T08:43:53.457Z          NaN   \n",
       "1     NaN           NaN       NaN                       NaN          NaN   \n",
       "\n",
       "                 updated_at  \n",
       "0  2021-02-17T08:44:09.561Z  \n",
       "1                       NaN  \n",
       "\n",
       "[2 rows x 59 columns]"
      ]
     },
     "execution_count": 302,
     "metadata": {},
     "output_type": "execute_result"
    }
   ],
   "source": [
    "enroll_merge.head(2)"
   ]
  },
  {
   "cell_type": "code",
   "execution_count": 303,
   "metadata": {},
   "outputs": [],
   "source": [
    "enroll_merge['is_enroll'] = enroll_merge['enroll_date'].apply(lambda x: 'No' if(str(x) == 'nan') else 'Yes')"
   ]
  },
  {
   "cell_type": "code",
   "execution_count": 304,
   "metadata": {},
   "outputs": [
    {
     "data": {
      "text/plain": [
       "is_enroll\n",
       "No           148\n",
       "Yes          102\n",
       "dtype: int64"
      ]
     },
     "execution_count": 304,
     "metadata": {},
     "output_type": "execute_result"
    }
   ],
   "source": [
    "enroll_merge[['is_enroll']].value_counts()"
   ]
  },
  {
   "cell_type": "code",
   "execution_count": 305,
   "metadata": {},
   "outputs": [],
   "source": [
    "final_merge=pd.merge(left=enroll_merge,right=trans_ord, how = 'left', on=['user_id'])"
   ]
  },
  {
   "cell_type": "code",
   "execution_count": 306,
   "metadata": {},
   "outputs": [
    {
     "data": {
      "text/plain": [
       "Payed\n",
       "Yes      65\n",
       "dtype: int64"
      ]
     },
     "execution_count": 306,
     "metadata": {},
     "output_type": "execute_result"
    }
   ],
   "source": [
    "final_merge[['Payed']].value_counts()"
   ]
  },
  {
   "cell_type": "code",
   "execution_count": 307,
   "metadata": {},
   "outputs": [],
   "source": [
    "#final_merge.Payed = final_merge[\"Payed\"].fillna(value ='No',inplace=True)\n",
    "#final_merge.Payed=final_merge.Payed.fillna(value='No',inplace=True)\n",
    "final_merge['Payed'] = final_merge['Payed'].apply(lambda x: 'No' if(str(x) == 'nan') else 'Yes')"
   ]
  },
  {
   "cell_type": "code",
   "execution_count": 308,
   "metadata": {},
   "outputs": [
    {
     "data": {
      "text/html": [
       "<div>\n",
       "<style scoped>\n",
       "    .dataframe tbody tr th:only-of-type {\n",
       "        vertical-align: middle;\n",
       "    }\n",
       "\n",
       "    .dataframe tbody tr th {\n",
       "        vertical-align: top;\n",
       "    }\n",
       "\n",
       "    .dataframe thead th {\n",
       "        text-align: right;\n",
       "    }\n",
       "</style>\n",
       "<table border=\"1\" class=\"dataframe\">\n",
       "  <thead>\n",
       "    <tr style=\"text-align: right;\">\n",
       "      <th></th>\n",
       "      <th>Unnamed: 0_x</th>\n",
       "      <th>gender</th>\n",
       "      <th>dob</th>\n",
       "      <th>commune</th>\n",
       "      <th>created_at</th>\n",
       "      <th>modified_at</th>\n",
       "      <th>department</th>\n",
       "      <th>education_level</th>\n",
       "      <th>university</th>\n",
       "      <th>study_domain</th>\n",
       "      <th>...</th>\n",
       "      <th>completed_at</th>\n",
       "      <th>expired</th>\n",
       "      <th>is_free_trial</th>\n",
       "      <th>completed</th>\n",
       "      <th>started_at</th>\n",
       "      <th>activated_at</th>\n",
       "      <th>updated_at</th>\n",
       "      <th>is_enroll</th>\n",
       "      <th>Payed</th>\n",
       "      <th>Payment_Date</th>\n",
       "    </tr>\n",
       "  </thead>\n",
       "  <tbody>\n",
       "    <tr>\n",
       "      <th>0</th>\n",
       "      <td>0.0</td>\n",
       "      <td>male</td>\n",
       "      <td>1998-08-25 00:00:00</td>\n",
       "      <td>HT0111</td>\n",
       "      <td>2021-02-14T23:03:52.768400Z</td>\n",
       "      <td>2021-02-14T23:03:52.768462Z</td>\n",
       "      <td>NAN</td>\n",
       "      <td>unknown</td>\n",
       "      <td>unknown</td>\n",
       "      <td>[]</td>\n",
       "      <td>...</td>\n",
       "      <td>NaN</td>\n",
       "      <td>False</td>\n",
       "      <td>True</td>\n",
       "      <td>False</td>\n",
       "      <td>2021-02-17T08:43:53.457Z</td>\n",
       "      <td>NaN</td>\n",
       "      <td>2021-02-17T08:44:09.561Z</td>\n",
       "      <td>Yes</td>\n",
       "      <td>No</td>\n",
       "      <td>NaN</td>\n",
       "    </tr>\n",
       "    <tr>\n",
       "      <th>1</th>\n",
       "      <td>1.0</td>\n",
       "      <td>female</td>\n",
       "      <td>1996-09-29 00:00:00</td>\n",
       "      <td>HT0111</td>\n",
       "      <td>2021-02-16T16:01:10.861844Z</td>\n",
       "      <td>2021-02-16T16:01:10.861899Z</td>\n",
       "      <td>HT01</td>\n",
       "      <td>Bachelors (bacc +4)</td>\n",
       "      <td>other</td>\n",
       "      <td>['other']</td>\n",
       "      <td>...</td>\n",
       "      <td>NaN</td>\n",
       "      <td>NaN</td>\n",
       "      <td>NaN</td>\n",
       "      <td>NaN</td>\n",
       "      <td>NaN</td>\n",
       "      <td>NaN</td>\n",
       "      <td>NaN</td>\n",
       "      <td>No</td>\n",
       "      <td>No</td>\n",
       "      <td>NaN</td>\n",
       "    </tr>\n",
       "    <tr>\n",
       "      <th>2</th>\n",
       "      <td>2.0</td>\n",
       "      <td>male</td>\n",
       "      <td>1996-05-17 00:00:00</td>\n",
       "      <td>HT0111</td>\n",
       "      <td>2021-02-16T16:56:30.579504Z</td>\n",
       "      <td>2021-02-16T16:56:30.579563Z</td>\n",
       "      <td>HT01</td>\n",
       "      <td>Bachelors (bacc +4)</td>\n",
       "      <td>Université d'Etat d'Haïti (UEH)</td>\n",
       "      <td>[]</td>\n",
       "      <td>...</td>\n",
       "      <td>NaN</td>\n",
       "      <td>False</td>\n",
       "      <td>False</td>\n",
       "      <td>False</td>\n",
       "      <td>2021-02-20T21:20:37.814Z</td>\n",
       "      <td>2021-03-03T23:00:11.000Z</td>\n",
       "      <td>2021-03-09T13:57:49.729Z</td>\n",
       "      <td>Yes</td>\n",
       "      <td>Yes</td>\n",
       "      <td>2021-03-03T23:00:11.974Z</td>\n",
       "    </tr>\n",
       "    <tr>\n",
       "      <th>3</th>\n",
       "      <td>3.0</td>\n",
       "      <td>male</td>\n",
       "      <td>1996-11-24 00:00:00</td>\n",
       "      <td>HT0111</td>\n",
       "      <td>2021-02-16T16:57:55.754541Z</td>\n",
       "      <td>2021-02-16T16:57:55.754582Z</td>\n",
       "      <td>HT01</td>\n",
       "      <td>Bachelors (bacc +4)</td>\n",
       "      <td>Ecole Supérieure d'Infotronique d'Haïti (ESIH)</td>\n",
       "      <td>['item1', 'item6']</td>\n",
       "      <td>...</td>\n",
       "      <td>NaN</td>\n",
       "      <td>NaN</td>\n",
       "      <td>NaN</td>\n",
       "      <td>NaN</td>\n",
       "      <td>NaN</td>\n",
       "      <td>NaN</td>\n",
       "      <td>NaN</td>\n",
       "      <td>No</td>\n",
       "      <td>No</td>\n",
       "      <td>NaN</td>\n",
       "    </tr>\n",
       "    <tr>\n",
       "      <th>4</th>\n",
       "      <td>4.0</td>\n",
       "      <td>male</td>\n",
       "      <td>1997-07-20 00:00:00</td>\n",
       "      <td>HT0111</td>\n",
       "      <td>2021-02-16T17:05:40.907948Z</td>\n",
       "      <td>2021-02-16T17:05:40.907982Z</td>\n",
       "      <td>HT01</td>\n",
       "      <td>High School (16 years)</td>\n",
       "      <td>unknown</td>\n",
       "      <td>['other']</td>\n",
       "      <td>...</td>\n",
       "      <td>NaN</td>\n",
       "      <td>NaN</td>\n",
       "      <td>NaN</td>\n",
       "      <td>NaN</td>\n",
       "      <td>NaN</td>\n",
       "      <td>NaN</td>\n",
       "      <td>NaN</td>\n",
       "      <td>No</td>\n",
       "      <td>No</td>\n",
       "      <td>NaN</td>\n",
       "    </tr>\n",
       "    <tr>\n",
       "      <th>...</th>\n",
       "      <td>...</td>\n",
       "      <td>...</td>\n",
       "      <td>...</td>\n",
       "      <td>...</td>\n",
       "      <td>...</td>\n",
       "      <td>...</td>\n",
       "      <td>...</td>\n",
       "      <td>...</td>\n",
       "      <td>...</td>\n",
       "      <td>...</td>\n",
       "      <td>...</td>\n",
       "      <td>...</td>\n",
       "      <td>...</td>\n",
       "      <td>...</td>\n",
       "      <td>...</td>\n",
       "      <td>...</td>\n",
       "      <td>...</td>\n",
       "      <td>...</td>\n",
       "      <td>...</td>\n",
       "      <td>...</td>\n",
       "      <td>...</td>\n",
       "    </tr>\n",
       "    <tr>\n",
       "      <th>245</th>\n",
       "      <td>245.0</td>\n",
       "      <td>male</td>\n",
       "      <td>1994-02-15 00:00:00</td>\n",
       "      <td>HT0621</td>\n",
       "      <td>2021-03-02T18:39:19.873194Z</td>\n",
       "      <td>2021-03-02T18:39:19.873237Z</td>\n",
       "      <td>HT06</td>\n",
       "      <td>Bachelors (bacc +4)</td>\n",
       "      <td>other</td>\n",
       "      <td>['other']</td>\n",
       "      <td>...</td>\n",
       "      <td>NaN</td>\n",
       "      <td>False</td>\n",
       "      <td>False</td>\n",
       "      <td>False</td>\n",
       "      <td>2021-03-02T18:45:27.034Z</td>\n",
       "      <td>2021-03-02T18:53:20.000Z</td>\n",
       "      <td>2021-03-13T05:43:58.022Z</td>\n",
       "      <td>Yes</td>\n",
       "      <td>Yes</td>\n",
       "      <td>2021-03-02T18:53:20.759Z</td>\n",
       "    </tr>\n",
       "    <tr>\n",
       "      <th>246</th>\n",
       "      <td>246.0</td>\n",
       "      <td>male</td>\n",
       "      <td>1990-08-10 00:00:00</td>\n",
       "      <td>HT0621</td>\n",
       "      <td>2021-03-10T04:12:49.436154Z</td>\n",
       "      <td>2021-03-10T04:12:49.436213Z</td>\n",
       "      <td>HT06</td>\n",
       "      <td>Bachelors (bacc +4)</td>\n",
       "      <td>Université d'Etat d'Haïti (UEH)</td>\n",
       "      <td>['item8']</td>\n",
       "      <td>...</td>\n",
       "      <td>NaN</td>\n",
       "      <td>NaN</td>\n",
       "      <td>NaN</td>\n",
       "      <td>NaN</td>\n",
       "      <td>NaN</td>\n",
       "      <td>NaN</td>\n",
       "      <td>NaN</td>\n",
       "      <td>No</td>\n",
       "      <td>No</td>\n",
       "      <td>NaN</td>\n",
       "    </tr>\n",
       "    <tr>\n",
       "      <th>247</th>\n",
       "      <td>247.0</td>\n",
       "      <td>male</td>\n",
       "      <td>1993-12-28 00:00:00</td>\n",
       "      <td>HT0621</td>\n",
       "      <td>2021-03-14T15:29:32.474015Z</td>\n",
       "      <td>2021-03-14T15:29:32.474055Z</td>\n",
       "      <td>HT06</td>\n",
       "      <td>Bachelors (bacc +4)</td>\n",
       "      <td>Centre de Techniques de Planification et d'Eco...</td>\n",
       "      <td>['item2']</td>\n",
       "      <td>...</td>\n",
       "      <td>NaN</td>\n",
       "      <td>False</td>\n",
       "      <td>False</td>\n",
       "      <td>False</td>\n",
       "      <td>2021-03-14T15:34:56.007Z</td>\n",
       "      <td>2021-03-14T15:34:39.768Z</td>\n",
       "      <td>2021-03-14T17:30:53.379Z</td>\n",
       "      <td>Yes</td>\n",
       "      <td>Yes</td>\n",
       "      <td>2021-03-14T15:34:35.014Z</td>\n",
       "    </tr>\n",
       "    <tr>\n",
       "      <th>248</th>\n",
       "      <td>248.0</td>\n",
       "      <td>male</td>\n",
       "      <td>1992-04-17 00:00:00</td>\n",
       "      <td>HT0412</td>\n",
       "      <td>2021-03-08T16:35:07.806100Z</td>\n",
       "      <td>2021-03-08T16:35:07.806161Z</td>\n",
       "      <td>HT04</td>\n",
       "      <td>Bachelors (bacc +4)</td>\n",
       "      <td>other</td>\n",
       "      <td>['item1']</td>\n",
       "      <td>...</td>\n",
       "      <td>NaN</td>\n",
       "      <td>False</td>\n",
       "      <td>False</td>\n",
       "      <td>False</td>\n",
       "      <td>2021-03-08T19:10:36.694Z</td>\n",
       "      <td>2021-03-08T19:06:32.000Z</td>\n",
       "      <td>2021-03-14T16:28:07.992Z</td>\n",
       "      <td>Yes</td>\n",
       "      <td>Yes</td>\n",
       "      <td>2021-03-08T19:06:32.837Z</td>\n",
       "    </tr>\n",
       "    <tr>\n",
       "      <th>249</th>\n",
       "      <td>249.0</td>\n",
       "      <td>male</td>\n",
       "      <td>1993-07-22 00:00:00</td>\n",
       "      <td>HT1012</td>\n",
       "      <td>2021-03-10T21:41:05.708748Z</td>\n",
       "      <td>2021-03-10T21:41:05.708787Z</td>\n",
       "      <td>HT10</td>\n",
       "      <td>Masters</td>\n",
       "      <td>other</td>\n",
       "      <td>['other']</td>\n",
       "      <td>...</td>\n",
       "      <td>NaN</td>\n",
       "      <td>False</td>\n",
       "      <td>False</td>\n",
       "      <td>False</td>\n",
       "      <td>2021-03-14T02:18:52.472Z</td>\n",
       "      <td>2021-03-14T02:16:08.000Z</td>\n",
       "      <td>2021-03-14T03:32:18.768Z</td>\n",
       "      <td>Yes</td>\n",
       "      <td>Yes</td>\n",
       "      <td>2021-03-14T02:16:08.983Z</td>\n",
       "    </tr>\n",
       "  </tbody>\n",
       "</table>\n",
       "<p>250 rows × 62 columns</p>\n",
       "</div>"
      ],
      "text/plain": [
       "     Unnamed: 0_x  gender                  dob commune  \\\n",
       "0             0.0    male  1998-08-25 00:00:00  HT0111   \n",
       "1             1.0  female  1996-09-29 00:00:00  HT0111   \n",
       "2             2.0    male  1996-05-17 00:00:00  HT0111   \n",
       "3             3.0    male  1996-11-24 00:00:00  HT0111   \n",
       "4             4.0    male  1997-07-20 00:00:00  HT0111   \n",
       "..            ...     ...                  ...     ...   \n",
       "245         245.0    male  1994-02-15 00:00:00  HT0621   \n",
       "246         246.0    male  1990-08-10 00:00:00  HT0621   \n",
       "247         247.0    male  1993-12-28 00:00:00  HT0621   \n",
       "248         248.0    male  1992-04-17 00:00:00  HT0412   \n",
       "249         249.0    male  1993-07-22 00:00:00  HT1012   \n",
       "\n",
       "                      created_at                  modified_at department  \\\n",
       "0    2021-02-14T23:03:52.768400Z  2021-02-14T23:03:52.768462Z        NAN   \n",
       "1    2021-02-16T16:01:10.861844Z  2021-02-16T16:01:10.861899Z       HT01   \n",
       "2    2021-02-16T16:56:30.579504Z  2021-02-16T16:56:30.579563Z       HT01   \n",
       "3    2021-02-16T16:57:55.754541Z  2021-02-16T16:57:55.754582Z       HT01   \n",
       "4    2021-02-16T17:05:40.907948Z  2021-02-16T17:05:40.907982Z       HT01   \n",
       "..                           ...                          ...        ...   \n",
       "245  2021-03-02T18:39:19.873194Z  2021-03-02T18:39:19.873237Z       HT06   \n",
       "246  2021-03-10T04:12:49.436154Z  2021-03-10T04:12:49.436213Z       HT06   \n",
       "247  2021-03-14T15:29:32.474015Z  2021-03-14T15:29:32.474055Z       HT06   \n",
       "248  2021-03-08T16:35:07.806100Z  2021-03-08T16:35:07.806161Z       HT04   \n",
       "249  2021-03-10T21:41:05.708748Z  2021-03-10T21:41:05.708787Z       HT10   \n",
       "\n",
       "            education_level  \\\n",
       "0                   unknown   \n",
       "1       Bachelors (bacc +4)   \n",
       "2       Bachelors (bacc +4)   \n",
       "3       Bachelors (bacc +4)   \n",
       "4    High School (16 years)   \n",
       "..                      ...   \n",
       "245     Bachelors (bacc +4)   \n",
       "246     Bachelors (bacc +4)   \n",
       "247     Bachelors (bacc +4)   \n",
       "248     Bachelors (bacc +4)   \n",
       "249                 Masters   \n",
       "\n",
       "                                            university        study_domain  \\\n",
       "0                                              unknown                  []   \n",
       "1                                                other           ['other']   \n",
       "2                      Université d'Etat d'Haïti (UEH)                  []   \n",
       "3       Ecole Supérieure d'Infotronique d'Haïti (ESIH)  ['item1', 'item6']   \n",
       "4                                              unknown           ['other']   \n",
       "..                                                 ...                 ...   \n",
       "245                                              other           ['other']   \n",
       "246                    Université d'Etat d'Haïti (UEH)           ['item8']   \n",
       "247  Centre de Techniques de Planification et d'Eco...           ['item2']   \n",
       "248                                              other           ['item1']   \n",
       "249                                              other           ['other']   \n",
       "\n",
       "     ... completed_at expired is_free_trial completed  \\\n",
       "0    ...          NaN   False          True     False   \n",
       "1    ...          NaN     NaN           NaN       NaN   \n",
       "2    ...          NaN   False         False     False   \n",
       "3    ...          NaN     NaN           NaN       NaN   \n",
       "4    ...          NaN     NaN           NaN       NaN   \n",
       "..   ...          ...     ...           ...       ...   \n",
       "245  ...          NaN   False         False     False   \n",
       "246  ...          NaN     NaN           NaN       NaN   \n",
       "247  ...          NaN   False         False     False   \n",
       "248  ...          NaN   False         False     False   \n",
       "249  ...          NaN   False         False     False   \n",
       "\n",
       "                   started_at              activated_at  \\\n",
       "0    2021-02-17T08:43:53.457Z                       NaN   \n",
       "1                         NaN                       NaN   \n",
       "2    2021-02-20T21:20:37.814Z  2021-03-03T23:00:11.000Z   \n",
       "3                         NaN                       NaN   \n",
       "4                         NaN                       NaN   \n",
       "..                        ...                       ...   \n",
       "245  2021-03-02T18:45:27.034Z  2021-03-02T18:53:20.000Z   \n",
       "246                       NaN                       NaN   \n",
       "247  2021-03-14T15:34:56.007Z  2021-03-14T15:34:39.768Z   \n",
       "248  2021-03-08T19:10:36.694Z  2021-03-08T19:06:32.000Z   \n",
       "249  2021-03-14T02:18:52.472Z  2021-03-14T02:16:08.000Z   \n",
       "\n",
       "                   updated_at is_enroll Payed              Payment_Date  \n",
       "0    2021-02-17T08:44:09.561Z       Yes    No                       NaN  \n",
       "1                         NaN        No    No                       NaN  \n",
       "2    2021-03-09T13:57:49.729Z       Yes   Yes  2021-03-03T23:00:11.974Z  \n",
       "3                         NaN        No    No                       NaN  \n",
       "4                         NaN        No    No                       NaN  \n",
       "..                        ...       ...   ...                       ...  \n",
       "245  2021-03-13T05:43:58.022Z       Yes   Yes  2021-03-02T18:53:20.759Z  \n",
       "246                       NaN        No    No                       NaN  \n",
       "247  2021-03-14T17:30:53.379Z       Yes   Yes  2021-03-14T15:34:35.014Z  \n",
       "248  2021-03-14T16:28:07.992Z       Yes   Yes  2021-03-08T19:06:32.837Z  \n",
       "249  2021-03-14T03:32:18.768Z       Yes   Yes  2021-03-14T02:16:08.983Z  \n",
       "\n",
       "[250 rows x 62 columns]"
      ]
     },
     "execution_count": 308,
     "metadata": {},
     "output_type": "execute_result"
    }
   ],
   "source": [
    "final_merge"
   ]
  },
  {
   "cell_type": "code",
   "execution_count": null,
   "metadata": {},
   "outputs": [],
   "source": []
  },
  {
   "cell_type": "code",
   "execution_count": 309,
   "metadata": {},
   "outputs": [
    {
     "data": {
      "text/plain": [
       "(250, 62)"
      ]
     },
     "execution_count": 309,
     "metadata": {},
     "output_type": "execute_result"
    }
   ],
   "source": [
    "final_merge.shape"
   ]
  },
  {
   "cell_type": "code",
   "execution_count": 310,
   "metadata": {},
   "outputs": [
    {
     "data": {
      "text/html": [
       "<div>\n",
       "<style scoped>\n",
       "    .dataframe tbody tr th:only-of-type {\n",
       "        vertical-align: middle;\n",
       "    }\n",
       "\n",
       "    .dataframe tbody tr th {\n",
       "        vertical-align: top;\n",
       "    }\n",
       "\n",
       "    .dataframe thead th {\n",
       "        text-align: right;\n",
       "    }\n",
       "</style>\n",
       "<table border=\"1\" class=\"dataframe\">\n",
       "  <thead>\n",
       "    <tr style=\"text-align: right;\">\n",
       "      <th></th>\n",
       "      <th>Unnamed: 0_x</th>\n",
       "      <th>gender</th>\n",
       "      <th>dob</th>\n",
       "      <th>commune</th>\n",
       "      <th>created_at</th>\n",
       "      <th>modified_at</th>\n",
       "      <th>department</th>\n",
       "      <th>education_level</th>\n",
       "      <th>university</th>\n",
       "      <th>study_domain</th>\n",
       "      <th>...</th>\n",
       "      <th>completed_at</th>\n",
       "      <th>expired</th>\n",
       "      <th>is_free_trial</th>\n",
       "      <th>completed</th>\n",
       "      <th>started_at</th>\n",
       "      <th>activated_at</th>\n",
       "      <th>updated_at</th>\n",
       "      <th>is_enroll</th>\n",
       "      <th>Payed</th>\n",
       "      <th>Payment_Date</th>\n",
       "    </tr>\n",
       "  </thead>\n",
       "  <tbody>\n",
       "    <tr>\n",
       "      <th>0</th>\n",
       "      <td>0.0</td>\n",
       "      <td>male</td>\n",
       "      <td>1998-08-25 00:00:00</td>\n",
       "      <td>HT0111</td>\n",
       "      <td>2021-02-14T23:03:52.768400Z</td>\n",
       "      <td>2021-02-14T23:03:52.768462Z</td>\n",
       "      <td>NAN</td>\n",
       "      <td>unknown</td>\n",
       "      <td>unknown</td>\n",
       "      <td>[]</td>\n",
       "      <td>...</td>\n",
       "      <td>NaN</td>\n",
       "      <td>False</td>\n",
       "      <td>True</td>\n",
       "      <td>False</td>\n",
       "      <td>2021-02-17T08:43:53.457Z</td>\n",
       "      <td>NaN</td>\n",
       "      <td>2021-02-17T08:44:09.561Z</td>\n",
       "      <td>Yes</td>\n",
       "      <td>No</td>\n",
       "      <td>NaN</td>\n",
       "    </tr>\n",
       "    <tr>\n",
       "      <th>1</th>\n",
       "      <td>1.0</td>\n",
       "      <td>female</td>\n",
       "      <td>1996-09-29 00:00:00</td>\n",
       "      <td>HT0111</td>\n",
       "      <td>2021-02-16T16:01:10.861844Z</td>\n",
       "      <td>2021-02-16T16:01:10.861899Z</td>\n",
       "      <td>HT01</td>\n",
       "      <td>Bachelors (bacc +4)</td>\n",
       "      <td>other</td>\n",
       "      <td>['other']</td>\n",
       "      <td>...</td>\n",
       "      <td>NaN</td>\n",
       "      <td>NaN</td>\n",
       "      <td>NaN</td>\n",
       "      <td>NaN</td>\n",
       "      <td>NaN</td>\n",
       "      <td>NaN</td>\n",
       "      <td>NaN</td>\n",
       "      <td>No</td>\n",
       "      <td>No</td>\n",
       "      <td>NaN</td>\n",
       "    </tr>\n",
       "    <tr>\n",
       "      <th>2</th>\n",
       "      <td>2.0</td>\n",
       "      <td>male</td>\n",
       "      <td>1996-05-17 00:00:00</td>\n",
       "      <td>HT0111</td>\n",
       "      <td>2021-02-16T16:56:30.579504Z</td>\n",
       "      <td>2021-02-16T16:56:30.579563Z</td>\n",
       "      <td>HT01</td>\n",
       "      <td>Bachelors (bacc +4)</td>\n",
       "      <td>Université d'Etat d'Haïti (UEH)</td>\n",
       "      <td>[]</td>\n",
       "      <td>...</td>\n",
       "      <td>NaN</td>\n",
       "      <td>False</td>\n",
       "      <td>False</td>\n",
       "      <td>False</td>\n",
       "      <td>2021-02-20T21:20:37.814Z</td>\n",
       "      <td>2021-03-03T23:00:11.000Z</td>\n",
       "      <td>2021-03-09T13:57:49.729Z</td>\n",
       "      <td>Yes</td>\n",
       "      <td>Yes</td>\n",
       "      <td>2021-03-03T23:00:11.974Z</td>\n",
       "    </tr>\n",
       "    <tr>\n",
       "      <th>3</th>\n",
       "      <td>3.0</td>\n",
       "      <td>male</td>\n",
       "      <td>1996-11-24 00:00:00</td>\n",
       "      <td>HT0111</td>\n",
       "      <td>2021-02-16T16:57:55.754541Z</td>\n",
       "      <td>2021-02-16T16:57:55.754582Z</td>\n",
       "      <td>HT01</td>\n",
       "      <td>Bachelors (bacc +4)</td>\n",
       "      <td>Ecole Supérieure d'Infotronique d'Haïti (ESIH)</td>\n",
       "      <td>['item1', 'item6']</td>\n",
       "      <td>...</td>\n",
       "      <td>NaN</td>\n",
       "      <td>NaN</td>\n",
       "      <td>NaN</td>\n",
       "      <td>NaN</td>\n",
       "      <td>NaN</td>\n",
       "      <td>NaN</td>\n",
       "      <td>NaN</td>\n",
       "      <td>No</td>\n",
       "      <td>No</td>\n",
       "      <td>NaN</td>\n",
       "    </tr>\n",
       "    <tr>\n",
       "      <th>4</th>\n",
       "      <td>4.0</td>\n",
       "      <td>male</td>\n",
       "      <td>1997-07-20 00:00:00</td>\n",
       "      <td>HT0111</td>\n",
       "      <td>2021-02-16T17:05:40.907948Z</td>\n",
       "      <td>2021-02-16T17:05:40.907982Z</td>\n",
       "      <td>HT01</td>\n",
       "      <td>High School (16 years)</td>\n",
       "      <td>unknown</td>\n",
       "      <td>['other']</td>\n",
       "      <td>...</td>\n",
       "      <td>NaN</td>\n",
       "      <td>NaN</td>\n",
       "      <td>NaN</td>\n",
       "      <td>NaN</td>\n",
       "      <td>NaN</td>\n",
       "      <td>NaN</td>\n",
       "      <td>NaN</td>\n",
       "      <td>No</td>\n",
       "      <td>No</td>\n",
       "      <td>NaN</td>\n",
       "    </tr>\n",
       "  </tbody>\n",
       "</table>\n",
       "<p>5 rows × 62 columns</p>\n",
       "</div>"
      ],
      "text/plain": [
       "   Unnamed: 0_x  gender                  dob commune  \\\n",
       "0           0.0    male  1998-08-25 00:00:00  HT0111   \n",
       "1           1.0  female  1996-09-29 00:00:00  HT0111   \n",
       "2           2.0    male  1996-05-17 00:00:00  HT0111   \n",
       "3           3.0    male  1996-11-24 00:00:00  HT0111   \n",
       "4           4.0    male  1997-07-20 00:00:00  HT0111   \n",
       "\n",
       "                    created_at                  modified_at department  \\\n",
       "0  2021-02-14T23:03:52.768400Z  2021-02-14T23:03:52.768462Z        NAN   \n",
       "1  2021-02-16T16:01:10.861844Z  2021-02-16T16:01:10.861899Z       HT01   \n",
       "2  2021-02-16T16:56:30.579504Z  2021-02-16T16:56:30.579563Z       HT01   \n",
       "3  2021-02-16T16:57:55.754541Z  2021-02-16T16:57:55.754582Z       HT01   \n",
       "4  2021-02-16T17:05:40.907948Z  2021-02-16T17:05:40.907982Z       HT01   \n",
       "\n",
       "          education_level                                      university  \\\n",
       "0                 unknown                                         unknown   \n",
       "1     Bachelors (bacc +4)                                           other   \n",
       "2     Bachelors (bacc +4)                 Université d'Etat d'Haïti (UEH)   \n",
       "3     Bachelors (bacc +4)  Ecole Supérieure d'Infotronique d'Haïti (ESIH)   \n",
       "4  High School (16 years)                                         unknown   \n",
       "\n",
       "         study_domain  ... completed_at expired is_free_trial completed  \\\n",
       "0                  []  ...          NaN   False          True     False   \n",
       "1           ['other']  ...          NaN     NaN           NaN       NaN   \n",
       "2                  []  ...          NaN   False         False     False   \n",
       "3  ['item1', 'item6']  ...          NaN     NaN           NaN       NaN   \n",
       "4           ['other']  ...          NaN     NaN           NaN       NaN   \n",
       "\n",
       "                 started_at              activated_at  \\\n",
       "0  2021-02-17T08:43:53.457Z                       NaN   \n",
       "1                       NaN                       NaN   \n",
       "2  2021-02-20T21:20:37.814Z  2021-03-03T23:00:11.000Z   \n",
       "3                       NaN                       NaN   \n",
       "4                       NaN                       NaN   \n",
       "\n",
       "                 updated_at is_enroll Payed              Payment_Date  \n",
       "0  2021-02-17T08:44:09.561Z       Yes    No                       NaN  \n",
       "1                       NaN        No    No                       NaN  \n",
       "2  2021-03-09T13:57:49.729Z       Yes   Yes  2021-03-03T23:00:11.974Z  \n",
       "3                       NaN        No    No                       NaN  \n",
       "4                       NaN        No    No                       NaN  \n",
       "\n",
       "[5 rows x 62 columns]"
      ]
     },
     "execution_count": 310,
     "metadata": {},
     "output_type": "execute_result"
    }
   ],
   "source": [
    "final_merge.head()"
   ]
  },
  {
   "cell_type": "code",
   "execution_count": null,
   "metadata": {},
   "outputs": [],
   "source": []
  },
  {
   "cell_type": "code",
   "execution_count": 311,
   "metadata": {},
   "outputs": [],
   "source": [
    "final_merge=final_merge[['quest_id','gender','age','commune','Commune_en', 'Commune_FR', 'Commune_Id', 'Departement','applicant_date','enroll_date','is_enroll','education_level'\n",
    "                         ,'hear_AA_1','after_AA','Payed','Accounting', 'Computer Science', 'Economics', 'Electrical Engineering',\n",
    "       'Law', 'Management', 'Medicine', 'Statistics', 'Bash', 'Excel', 'Git', 'Java', 'JavaScript', 'PHP',\n",
    "       'PowerBI or Tableau', 'Python', 'R', 'SQL', 'VBA','Job is formal','have_computer_home','internet_at_home','Payment_Date']]"
   ]
  },
  {
   "cell_type": "code",
   "execution_count": 312,
   "metadata": {},
   "outputs": [
    {
     "data": {
      "text/plain": [
       "(250, 38)"
      ]
     },
     "execution_count": 312,
     "metadata": {},
     "output_type": "execute_result"
    }
   ],
   "source": [
    "final_merge.shape"
   ]
  },
  {
   "cell_type": "code",
   "execution_count": 313,
   "metadata": {},
   "outputs": [
    {
     "data": {
      "text/html": [
       "<div>\n",
       "<style scoped>\n",
       "    .dataframe tbody tr th:only-of-type {\n",
       "        vertical-align: middle;\n",
       "    }\n",
       "\n",
       "    .dataframe tbody tr th {\n",
       "        vertical-align: top;\n",
       "    }\n",
       "\n",
       "    .dataframe thead th {\n",
       "        text-align: right;\n",
       "    }\n",
       "</style>\n",
       "<table border=\"1\" class=\"dataframe\">\n",
       "  <thead>\n",
       "    <tr style=\"text-align: right;\">\n",
       "      <th></th>\n",
       "      <th>quest_id</th>\n",
       "      <th>gender</th>\n",
       "      <th>age</th>\n",
       "      <th>commune</th>\n",
       "      <th>Commune_en</th>\n",
       "      <th>Commune_FR</th>\n",
       "      <th>Commune_Id</th>\n",
       "      <th>Departement</th>\n",
       "      <th>applicant_date</th>\n",
       "      <th>enroll_date</th>\n",
       "      <th>...</th>\n",
       "      <th>PHP</th>\n",
       "      <th>PowerBI or Tableau</th>\n",
       "      <th>Python</th>\n",
       "      <th>R</th>\n",
       "      <th>SQL</th>\n",
       "      <th>VBA</th>\n",
       "      <th>Job is formal</th>\n",
       "      <th>have_computer_home</th>\n",
       "      <th>internet_at_home</th>\n",
       "      <th>Payment_Date</th>\n",
       "    </tr>\n",
       "  </thead>\n",
       "  <tbody>\n",
       "    <tr>\n",
       "      <th>0</th>\n",
       "      <td>905dc006-ce95-11eb-b2f9-7c67a234f601</td>\n",
       "      <td>male</td>\n",
       "      <td>22.0</td>\n",
       "      <td>HT0111</td>\n",
       "      <td>NaN</td>\n",
       "      <td>NaN</td>\n",
       "      <td>NaN</td>\n",
       "      <td>NaN</td>\n",
       "      <td>2021-02-14 00:00:00</td>\n",
       "      <td>2021-02-14T23:15:19.500Z</td>\n",
       "      <td>...</td>\n",
       "      <td>NaN</td>\n",
       "      <td>NaN</td>\n",
       "      <td>NaN</td>\n",
       "      <td>NaN</td>\n",
       "      <td>NaN</td>\n",
       "      <td>NaN</td>\n",
       "      <td>unknown</td>\n",
       "      <td>unknown</td>\n",
       "      <td>unknown</td>\n",
       "      <td>NaN</td>\n",
       "    </tr>\n",
       "    <tr>\n",
       "      <th>1</th>\n",
       "      <td>905ddcf2-ce95-11eb-9a92-7c67a234f601</td>\n",
       "      <td>female</td>\n",
       "      <td>24.0</td>\n",
       "      <td>HT0111</td>\n",
       "      <td>Port-au-Prince</td>\n",
       "      <td>Port-au-Prince</td>\n",
       "      <td>HT0111</td>\n",
       "      <td>West</td>\n",
       "      <td>2021-02-16 00:00:00</td>\n",
       "      <td>NaN</td>\n",
       "      <td>...</td>\n",
       "      <td>0.0</td>\n",
       "      <td>0.0</td>\n",
       "      <td>0.0</td>\n",
       "      <td>1.0</td>\n",
       "      <td>0.0</td>\n",
       "      <td>0.0</td>\n",
       "      <td>unknown</td>\n",
       "      <td>Yes</td>\n",
       "      <td>Yes</td>\n",
       "      <td>NaN</td>\n",
       "    </tr>\n",
       "    <tr>\n",
       "      <th>2</th>\n",
       "      <td>905e2608-ce95-11eb-809f-7c67a234f601</td>\n",
       "      <td>male</td>\n",
       "      <td>24.0</td>\n",
       "      <td>HT0111</td>\n",
       "      <td>Port-au-Prince</td>\n",
       "      <td>Port-au-Prince</td>\n",
       "      <td>HT0111</td>\n",
       "      <td>West</td>\n",
       "      <td>2021-02-16 00:00:00</td>\n",
       "      <td>2021-02-20T21:20:37.450Z</td>\n",
       "      <td>...</td>\n",
       "      <td>0.0</td>\n",
       "      <td>0.0</td>\n",
       "      <td>1.0</td>\n",
       "      <td>0.0</td>\n",
       "      <td>1.0</td>\n",
       "      <td>0.0</td>\n",
       "      <td>unknown</td>\n",
       "      <td>Yes</td>\n",
       "      <td>Yes</td>\n",
       "      <td>2021-03-03T23:00:11.974Z</td>\n",
       "    </tr>\n",
       "    <tr>\n",
       "      <th>3</th>\n",
       "      <td>905e4cf5-ce95-11eb-96a9-7c67a234f601</td>\n",
       "      <td>male</td>\n",
       "      <td>24.0</td>\n",
       "      <td>HT0111</td>\n",
       "      <td>Port-au-Prince</td>\n",
       "      <td>Port-au-Prince</td>\n",
       "      <td>HT0111</td>\n",
       "      <td>West</td>\n",
       "      <td>2021-02-16 00:00:00</td>\n",
       "      <td>NaN</td>\n",
       "      <td>...</td>\n",
       "      <td>1.0</td>\n",
       "      <td>0.0</td>\n",
       "      <td>1.0</td>\n",
       "      <td>0.0</td>\n",
       "      <td>0.0</td>\n",
       "      <td>0.0</td>\n",
       "      <td>unknown</td>\n",
       "      <td>Yes</td>\n",
       "      <td>Yes</td>\n",
       "      <td>NaN</td>\n",
       "    </tr>\n",
       "  </tbody>\n",
       "</table>\n",
       "<p>4 rows × 38 columns</p>\n",
       "</div>"
      ],
      "text/plain": [
       "                               quest_id  gender   age commune      Commune_en  \\\n",
       "0  905dc006-ce95-11eb-b2f9-7c67a234f601    male  22.0  HT0111             NaN   \n",
       "1  905ddcf2-ce95-11eb-9a92-7c67a234f601  female  24.0  HT0111  Port-au-Prince   \n",
       "2  905e2608-ce95-11eb-809f-7c67a234f601    male  24.0  HT0111  Port-au-Prince   \n",
       "3  905e4cf5-ce95-11eb-96a9-7c67a234f601    male  24.0  HT0111  Port-au-Prince   \n",
       "\n",
       "       Commune_FR Commune_Id Departement       applicant_date  \\\n",
       "0             NaN        NaN         NaN  2021-02-14 00:00:00   \n",
       "1  Port-au-Prince     HT0111        West  2021-02-16 00:00:00   \n",
       "2  Port-au-Prince     HT0111        West  2021-02-16 00:00:00   \n",
       "3  Port-au-Prince     HT0111        West  2021-02-16 00:00:00   \n",
       "\n",
       "                enroll_date  ...  PHP PowerBI or Tableau Python    R  SQL  \\\n",
       "0  2021-02-14T23:15:19.500Z  ...  NaN                NaN    NaN  NaN  NaN   \n",
       "1                       NaN  ...  0.0                0.0    0.0  1.0  0.0   \n",
       "2  2021-02-20T21:20:37.450Z  ...  0.0                0.0    1.0  0.0  1.0   \n",
       "3                       NaN  ...  1.0                0.0    1.0  0.0  0.0   \n",
       "\n",
       "   VBA  Job is formal  have_computer_home  internet_at_home  \\\n",
       "0  NaN        unknown             unknown           unknown   \n",
       "1  0.0        unknown                 Yes               Yes   \n",
       "2  0.0        unknown                 Yes               Yes   \n",
       "3  0.0        unknown                 Yes               Yes   \n",
       "\n",
       "               Payment_Date  \n",
       "0                       NaN  \n",
       "1                       NaN  \n",
       "2  2021-03-03T23:00:11.974Z  \n",
       "3                       NaN  \n",
       "\n",
       "[4 rows x 38 columns]"
      ]
     },
     "execution_count": 313,
     "metadata": {},
     "output_type": "execute_result"
    }
   ],
   "source": [
    "final_merge.head(4)"
   ]
  },
  {
   "cell_type": "markdown",
   "metadata": {},
   "source": []
  },
  {
   "cell_type": "code",
   "execution_count": 318,
   "metadata": {},
   "outputs": [
    {
     "name": "stdout",
     "output_type": "stream",
     "text": [
      "<class 'pandas.core.frame.DataFrame'>\n",
      "Int64Index: 250 entries, 0 to 249\n",
      "Data columns (total 38 columns):\n",
      " #   Column                  Non-Null Count  Dtype  \n",
      "---  ------                  --------------  -----  \n",
      " 0   quest_id                250 non-null    object \n",
      " 1   gender                  250 non-null    object \n",
      " 2   age                     244 non-null    float64\n",
      " 3   commune                 250 non-null    object \n",
      " 4   Commune_en              248 non-null    object \n",
      " 5   Commune_FR              248 non-null    object \n",
      " 6   Commune_Id              248 non-null    object \n",
      " 7   Departement             248 non-null    object \n",
      " 8   applicant_date          250 non-null    object \n",
      " 9   enroll_date             102 non-null    object \n",
      " 10  is_enroll               250 non-null    object \n",
      " 11  education_level         250 non-null    object \n",
      " 12  hear_AA_1               250 non-null    object \n",
      " 13  after_AA                250 non-null    object \n",
      " 14  Payed                   250 non-null    object \n",
      " 15  Accounting              237 non-null    float64\n",
      " 16  Computer Science        237 non-null    float64\n",
      " 17  Economics               237 non-null    float64\n",
      " 18  Electrical Engineering  237 non-null    float64\n",
      " 19  Law                     237 non-null    float64\n",
      " 20  Management              237 non-null    float64\n",
      " 21  Medicine                237 non-null    float64\n",
      " 22  Statistics              237 non-null    float64\n",
      " 23  Bash                    237 non-null    float64\n",
      " 24  Excel                   237 non-null    float64\n",
      " 25  Git                     237 non-null    float64\n",
      " 26  Java                    237 non-null    float64\n",
      " 27  JavaScript              237 non-null    float64\n",
      " 28  PHP                     237 non-null    float64\n",
      " 29  PowerBI or Tableau      237 non-null    float64\n",
      " 30  Python                  237 non-null    float64\n",
      " 31  R                       237 non-null    float64\n",
      " 32  SQL                     237 non-null    float64\n",
      " 33  VBA                     237 non-null    float64\n",
      " 34  Job is formal           250 non-null    object \n",
      " 35  have_computer_home      250 non-null    object \n",
      " 36  internet_at_home        250 non-null    object \n",
      " 37  Payment_Date            65 non-null     object \n",
      "dtypes: float64(20), object(18)\n",
      "memory usage: 76.2+ KB\n"
     ]
    }
   ],
   "source": [
    "final_merge.info()"
   ]
  },
  {
   "cell_type": "markdown",
   "metadata": {},
   "source": [
    "# Ayiti Analytics Probability and Statistics Project"
   ]
  },
  {
   "cell_type": "markdown",
   "metadata": {},
   "source": [
    "Use all the files to have a final datasets to have the following columns\n",
    "   <ul>\n",
    "    <li>questid</li>\n",
    "    <li>gender</li>\n",
    "    <li>age (age of applicant)</li>\n",
    "    <li>communeName (use data prep in commune file)</li>\n",
    "    <li>application_date (created at in quest file)</li>\n",
    "    <li>enroll_date (created_at in enroll file)</li>\n",
    "    <li>is_enroll (Yes/No) (use data prep in enroll file)</li>\n",
    "    <li>Education Level</li>\n",
    "   <li>Communication channels(hear_AA1)</li>\n",
    "    <li>Bootcamp Insterest (after_AA)</li>\n",
    "    <li>Payement Date (use ord and transaction files)</li>\n",
    "    <li>Payed (Yes/No)</li>\n",
    "    <li>list Technologies as columns based (use get_dummies)</li>\n",
    "    <li>list  Study domains (use get_dummies)</li>\n",
    "    <li>Job is formal</li>\n",
    "    <li>Have computer at home</li>\n",
    "    <li>Have internet at home</li>\n",
    "    \n",
    "   </ul>\n",
    "   "
   ]
  },
  {
   "cell_type": "markdown",
   "metadata": {},
   "source": [
    "###  1. How many observations and variables are there in the dataset\n",
    " "
   ]
  },
  {
   "cell_type": "code",
   "execution_count": 319,
   "metadata": {},
   "outputs": [
    {
     "name": "stdout",
     "output_type": "stream",
     "text": [
      "the observation of row : 250\n",
      "the observation of columns: 38\n"
     ]
    }
   ],
   "source": [
    "# here your codes\n",
    "print('the observation of row :',final_merge.shape[0])\n",
    "print('the observation of columns:',final_merge.shape[1])"
   ]
  },
  {
   "cell_type": "markdown",
   "metadata": {},
   "source": [
    "### 2.A Calculate the average age of the observations\n",
    "   * On the whole dataset\n",
    "   * On the whole male dataset\n",
    "   * On all the female dataset\n",
    "### 2.B Calculate \n",
    "   * variance of the whole datatset,male and female\n",
    "   * kurtosis of the whole datatset,male and female\n",
    "   * skewness of the whole datatset,male and female\n",
    "### 2.C Does the age distribution follow a normal distribution \n",
    "   "
   ]
  },
  {
   "cell_type": "code",
   "execution_count": 320,
   "metadata": {},
   "outputs": [
    {
     "name": "stdout",
     "output_type": "stream",
     "text": [
      "the average of whole age observations: 27.0 years old\n",
      "the average of whole male observations: 27.51\n",
      "the average of whole female observations: 26.0\n",
      "the variance of whole age observations: 30.5\n",
      "the variance of whole male observations: 31.5\n",
      "the variance of whole female observations: 30.0\n"
     ]
    }
   ],
   "source": [
    "#the average for the observations \n",
    "W_average=final_merge['age'].mean()\n",
    "print('the average of whole age observations:', np.round(W_average), 'years old')\n",
    "male_average=final_merge[final_merge['gender']== 'male'].age.mean()\n",
    "print('the average of whole male observations:', np.round(male_average,2))\n",
    "female_average=final_merge[final_merge['gender']== 'female'].age.mean()\n",
    "print('the average of whole female observations:', np.round(female_average))\n",
    "\n",
    "#the variance for the observations \n",
    "\n",
    "variance=final_merge['age'].var()\n",
    "print('the variance of whole age observations:', np.round(variance,1))\n",
    "male_variance=final_merge[final_merge['gender']== 'male'].age.var()\n",
    "print('the variance of whole male observations:', np.round(male_variance,1))\n",
    "female_variance=final_merge[final_merge['gender']== 'female'].age.var()\n",
    "print('the variance of whole female observations:', np.round(female_variance,1))\n"
   ]
  },
  {
   "cell_type": "code",
   "execution_count": 321,
   "metadata": {},
   "outputs": [
    {
     "name": "stdout",
     "output_type": "stream",
     "text": [
      "the kurtosis of whole age observations: 2.5\n",
      "the kurtosis of whole male observations: 2.2\n",
      "the variance of whole male observations: 2.2\n",
      "the skewness of whole age observations: 1.5\n",
      "the skewness of whole male observations: 1.4\n",
      "the skewness of whole female observations: 1.4\n"
     ]
    }
   ],
   "source": [
    "#the kurtosis for the observations \n",
    "kts=final_merge['age'].kurtosis()\n",
    "print('the kurtosis of whole age observations:', np.round(kurtosis,1))\n",
    "male_kurtosis=final_merge[final_merge['gender']== 'male'].age.kurtosis()\n",
    "print('the kurtosis of whole male observations:', np.round(male_kurtosis,1))\n",
    "female_kurtosis=final_merge[final_merge['gender']== 'female'].age.kurtosis()\n",
    "print('the variance of whole male observations:', np.round(male_kurtosis,1))\n",
    "\n",
    "#the skewness for the observations \n",
    "\n",
    "skw=final_merge['age'].skew()\n",
    "print('the skewness of whole age observations:', np.round(skw,1))\n",
    "skewness_male=final_merge[final_merge['gender']== 'male'].age.skew()\n",
    "print('the skewness of whole male observations:', np.round(skewness_male,1))\n",
    "skewness_female=final_merge[final_merge['gender']== 'male'].age.skew()\n",
    "print('the skewness of whole female observations:', np.round(skewness_female,1))"
   ]
  },
  {
   "cell_type": "markdown",
   "metadata": {},
   "source": [
    "### 3.Display the age frequency disbrution\n",
    "   * On the whole dataset\n",
    "   * On the whole male dataset\n",
    "   * On all the female dataset"
   ]
  },
  {
   "cell_type": "code",
   "execution_count": 322,
   "metadata": {},
   "outputs": [
    {
     "name": "stderr",
     "output_type": "stream",
     "text": [
      "/opt/anaconda3/lib/python3.8/site-packages/seaborn/distributions.py:2551: FutureWarning: `distplot` is a deprecated function and will be removed in a future version. Please adapt your code to use either `displot` (a figure-level function with similar flexibility) or `histplot` (an axes-level function for histograms).\n",
      "  warnings.warn(msg, FutureWarning)\n",
      "/opt/anaconda3/lib/python3.8/site-packages/seaborn/distributions.py:2055: FutureWarning: The `axis` variable is no longer used and will be removed. Instead, assign variables directly to `x` or `y`.\n",
      "  warnings.warn(msg, FutureWarning)\n"
     ]
    },
    {
     "data": {
      "text/plain": [
       "<AxesSubplot:xlabel='age', ylabel='Density'>"
      ]
     },
     "execution_count": 322,
     "metadata": {},
     "output_type": "execute_result"
    },
    {
     "data": {
      "image/png": "[encoded data removed]",
      "text/plain": [
       "<Figure size 432x288 with 1 Axes>"
      ]
     },
     "metadata": {
      "needs_background": "light"
     },
     "output_type": "display_data"
    }
   ],
   "source": [
    "sns.distplot(final_merge['age'], bins=50, kde=True, rug=True)"
   ]
  },
  {
   "cell_type": "code",
   "execution_count": 323,
   "metadata": {},
   "outputs": [
    {
     "data": {
      "text/plain": [
       "<seaborn.axisgrid.FacetGrid at 0x1276ddbe0>"
      ]
     },
     "execution_count": 323,
     "metadata": {},
     "output_type": "execute_result"
    },
    {
     "data": {
      "image/png": "[encoded data removed]",
      "text/plain": [
       "<Figure size 360x360 with 1 Axes>"
      ]
     },
     "metadata": {
      "needs_background": "light"
     },
     "output_type": "display_data"
    }
   ],
   "source": [
    "sns.displot(final_merge[final_merge['gender']== 'female'].age,bins=50 ,kde = True)"
   ]
  },
  {
   "cell_type": "code",
   "execution_count": 324,
   "metadata": {},
   "outputs": [
    {
     "data": {
      "text/plain": [
       "<seaborn.axisgrid.FacetGrid at 0x1278f8a30>"
      ]
     },
     "execution_count": 324,
     "metadata": {},
     "output_type": "execute_result"
    },
    {
     "data": {
      "image/png": "[encoded data removed]",
      "text/plain": [
       "<Figure size 360x360 with 1 Axes>"
      ]
     },
     "metadata": {
      "needs_background": "light"
     },
     "output_type": "display_data"
    }
   ],
   "source": [
    "sns.displot(final_merge[final_merge['gender']== 'male'].age, bins =50 ,kde = True)"
   ]
  },
  {
   "cell_type": "markdown",
   "metadata": {},
   "source": [
    "### 4. Can we say that the average age (24 years old) of the observations can be considered as the average age of the population likely to participate in this bootcamp. Justify your answer"
   ]
  },
  {
   "cell_type": "code",
   "execution_count": 325,
   "metadata": {},
   "outputs": [
    {
     "name": "stdout",
     "output_type": "stream",
     "text": [
      "Statistics=4060.50, p=0.00\n",
      "h1 mu!= 24 (reject H0)\n"
     ]
    }
   ],
   "source": [
    "# H0 : Mu = 24 \n",
    "# H1 : Mu != 24\n",
    "from scipy.stats import wilcoxon\n",
    "stat, p = wilcoxon(final_merge.age - 24)\n",
    "print('Statistics=%.2f, p=%.2f' % (stat, p))\n",
    "# interpretation\n",
    "alpha = 0.05\n",
    "if p > alpha:\n",
    "\tprint('ho mu=24 (fail to reject H0)')\n",
    "else:\n",
    "\tprint('h1 mu!= 24 (reject H0)')"
   ]
  },
  {
   "cell_type": "code",
   "execution_count": null,
   "metadata": {},
   "outputs": [],
   "source": []
  },
  {
   "cell_type": "markdown",
   "metadata": {},
   "source": [
    "### 5. Calculate the average age of participants for each communication channel"
   ]
  },
  {
   "cell_type": "code",
   "execution_count": 326,
   "metadata": {},
   "outputs": [],
   "source": [
    "#here your codes\n",
    "participant_avg_age=( final_merge['age'].groupby(by= final_merge['hear_AA_1']).mean())\n"
   ]
  },
  {
   "cell_type": "code",
   "execution_count": null,
   "metadata": {},
   "outputs": [],
   "source": []
  },
  {
   "cell_type": "markdown",
   "metadata": {},
   "source": [
    "### 6. Display an age boxplot for each communication channel"
   ]
  },
  {
   "cell_type": "code",
   "execution_count": 327,
   "metadata": {},
   "outputs": [
    {
     "data": {
      "text/plain": [
       "Text(0.5, 1.0, 'the boxplot of each communication channel')"
      ]
     },
     "execution_count": 327,
     "metadata": {},
     "output_type": "execute_result"
    },
    {
     "data": {
      "image/png": "[encoded data removed]",
      "text/plain": [
       "<Figure size 720x432 with 1 Axes>"
      ]
     },
     "metadata": {
      "needs_background": "light"
     },
     "output_type": "display_data"
    }
   ],
   "source": [
    "#here your codes\n",
    "plt.figure(figsize=(10,6))\n",
    "sns.boxplot(data=final_merge,x=\"hear_AA_1\",y=\"age\")\n",
    "plt.title('the boxplot of each communication channel')"
   ]
  },
  {
   "cell_type": "markdown",
   "metadata": {},
   "source": [
    "### 7 .Is there a significant age difference between these groups"
   ]
  },
  {
   "cell_type": "code",
   "execution_count": 328,
   "metadata": {},
   "outputs": [],
   "source": [
    "#here your codes"
   ]
  },
  {
   "cell_type": "code",
   "execution_count": 329,
   "metadata": {},
   "outputs": [],
   "source": [
    "Facebook_age = final_merge[final_merge['hear_AA_1'] == 'Facebook']['age'].values\n",
    "Unknown_age = final_merge[final_merge['hear_AA_1'] == 'unknown']['age'].values\n",
    "Friend_age = final_merge[final_merge['hear_AA_1'] == 'Friend']['age'].values\n",
    "ESIH_age = final_merge[final_merge['hear_AA_1'] == 'ESIH']['age'].values\n",
    "WhatsApp_age = final_merge[final_merge['hear_AA_1'] == 'WhatsApp']['age'].values\n",
    "Bootcamp_Alumni_age = final_merge[final_merge['hear_AA_1'] == 'Bootcamp Alumni']['age'].values\n",
    "LinkedIn_age = final_merge[final_merge['hear_AA_1'] == 'LinkedIn']['age'].values\n",
    "Ayiti_Analytics_Website_age = final_merge[final_merge['hear_AA_1'] == 'Ayiti Analytics Website']['age'].values\n",
    "other_age = final_merge[final_merge['hear_AA_1'] == 'other']['age'].values\n",
    "Instagram_age = final_merge[final_merge['hear_AA_1'] == 'Instagram']['age'].values"
   ]
  },
  {
   "cell_type": "code",
   "execution_count": null,
   "metadata": {},
   "outputs": [],
   "source": []
  },
  {
   "cell_type": "code",
   "execution_count": 330,
   "metadata": {},
   "outputs": [
    {
     "name": "stdout",
     "output_type": "stream",
     "text": [
      "p-values: nan\n",
      "Hypothesis Accepted\n"
     ]
    }
   ],
   "source": [
    "\n",
    "stat, p = f_oneway(Facebook_age,Unknown_age,Friend_age,ESIH_age,WhatsApp_age,Bootcamp_Alumni_age,LinkedIn_age,Ayiti_Analytics_Website_age,other_age,Instagram_age)\n",
    "print(\"p-values:\", p)\n",
    "if p < 0.05:\n",
    " print(\"Hypothesis Rejected\")\n",
    "else:\n",
    " print(\"Hypothesis Accepted\")"
   ]
  },
  {
   "cell_type": "code",
   "execution_count": 331,
   "metadata": {},
   "outputs": [
    {
     "name": "stdout",
     "output_type": "stream",
     "text": [
      "nan\n",
      "Hypothesis Accepted\n"
     ]
    }
   ],
   "source": [
    "#here your codes\n",
    "# Ho : There is no difference between the mean of these groups\n",
    "# h1 : There is a difference between the mean of these groups\n",
    "\n",
    "ccList = list(final_merge[\"hear_AA_1\"].unique())\n",
    "cat = [final_merge[final_merge[\"hear_AA_1\"] == i].age.dropna() for i in ccList]\n",
    "\n",
    "stat, p = f_oneway(Facebook_age,Unknown_age,Friend_age,ESIH_age,WhatsApp_age,Bootcamp_Alumni_age,LinkedIn_age,Ayiti_Analytics_Website_age,other_age,Instagram_age)\n",
    "print(p)\n",
    "if p < 0.05:\n",
    " print(\"Hypothesis Rejected\")\n",
    "else:\n",
    " print(\"Hypothesis Accepted\")"
   ]
  },
  {
   "cell_type": "markdown",
   "metadata": {},
   "source": [
    "### 8.Plan a BA strategy for each communication channel regarding the age group"
   ]
  },
  {
   "cell_type": "code",
   "execution_count": 332,
   "metadata": {},
   "outputs": [
    {
     "data": {
      "text/html": [
       "<div>\n",
       "<style scoped>\n",
       "    .dataframe tbody tr th:only-of-type {\n",
       "        vertical-align: middle;\n",
       "    }\n",
       "\n",
       "    .dataframe tbody tr th {\n",
       "        vertical-align: top;\n",
       "    }\n",
       "\n",
       "    .dataframe thead th {\n",
       "        text-align: right;\n",
       "    }\n",
       "</style>\n",
       "<table border=\"1\" class=\"dataframe\">\n",
       "  <thead>\n",
       "    <tr style=\"text-align: right;\">\n",
       "      <th></th>\n",
       "      <th>age</th>\n",
       "    </tr>\n",
       "    <tr>\n",
       "      <th>hear_AA_1</th>\n",
       "      <th></th>\n",
       "    </tr>\n",
       "  </thead>\n",
       "  <tbody>\n",
       "    <tr>\n",
       "      <th>26.475409836065573</th>\n",
       "      <td>26.475410</td>\n",
       "    </tr>\n",
       "    <tr>\n",
       "      <th>Ayiti Analytics Website</th>\n",
       "      <td>27.000000</td>\n",
       "    </tr>\n",
       "    <tr>\n",
       "      <th>Bootcamp Alumni</th>\n",
       "      <td>26.285714</td>\n",
       "    </tr>\n",
       "    <tr>\n",
       "      <th>ESIH</th>\n",
       "      <td>24.875000</td>\n",
       "    </tr>\n",
       "    <tr>\n",
       "      <th>Facebook</th>\n",
       "      <td>27.486486</td>\n",
       "    </tr>\n",
       "    <tr>\n",
       "      <th>Friend</th>\n",
       "      <td>27.000000</td>\n",
       "    </tr>\n",
       "    <tr>\n",
       "      <th>Instagram</th>\n",
       "      <td>24.400000</td>\n",
       "    </tr>\n",
       "    <tr>\n",
       "      <th>LinkedIn</th>\n",
       "      <td>30.214286</td>\n",
       "    </tr>\n",
       "    <tr>\n",
       "      <th>WhatsApp</th>\n",
       "      <td>27.836066</td>\n",
       "    </tr>\n",
       "    <tr>\n",
       "      <th>other</th>\n",
       "      <td>28.444444</td>\n",
       "    </tr>\n",
       "    <tr>\n",
       "      <th>unknown</th>\n",
       "      <td>22.000000</td>\n",
       "    </tr>\n",
       "  </tbody>\n",
       "</table>\n",
       "</div>"
      ],
      "text/plain": [
       "                               age\n",
       "hear_AA_1                         \n",
       "26.475409836065573       26.475410\n",
       "Ayiti Analytics Website  27.000000\n",
       "Bootcamp Alumni          26.285714\n",
       "ESIH                     24.875000\n",
       "Facebook                 27.486486\n",
       "Friend                   27.000000\n",
       "Instagram                24.400000\n",
       "LinkedIn                 30.214286\n",
       "WhatsApp                 27.836066\n",
       "other                    28.444444\n",
       "unknown                  22.000000"
      ]
     },
     "execution_count": 332,
     "metadata": {},
     "output_type": "execute_result"
    }
   ],
   "source": [
    "participant_avg_age.to_frame()"
   ]
  },
  {
   "cell_type": "code",
   "execution_count": null,
   "metadata": {},
   "outputs": [],
   "source": [
    "\n"
   ]
  },
  {
   "cell_type": "markdown",
   "metadata": {},
   "source": [
    "### 9.According to the observations what is the probability of being in each channel of communication knowing your are a woman"
   ]
  },
  {
   "cell_type": "code",
   "execution_count": 333,
   "metadata": {},
   "outputs": [
    {
     "data": {
      "text/plain": [
       "Friend                     0.244444\n",
       "WhatsApp                   0.177778\n",
       "Bootcamp Alumni            0.177778\n",
       "Facebook                   0.133333\n",
       "Ayiti Analytics Website    0.088889\n",
       "ESIH                       0.088889\n",
       "other                      0.044444\n",
       "Instagram                  0.022222\n",
       "LinkedIn                   0.022222\n",
       "Name: hear_AA_1, dtype: float64"
      ]
     },
     "execution_count": 333,
     "metadata": {},
     "output_type": "execute_result"
    }
   ],
   "source": [
    "#here your codes\n",
    "prob_obsv = final_merge[final_merge[\"gender\"]==\"female\"][\"hear_AA_1\"]\n",
    "prob_obsv.value_counts(normalize=1)\n"
   ]
  },
  {
   "cell_type": "markdown",
   "metadata": {},
   "source": [
    "### 10.According to the observations what is the probability of being in each channel of communication knowing your are a man"
   ]
  },
  {
   "cell_type": "code",
   "execution_count": 334,
   "metadata": {},
   "outputs": [
    {
     "data": {
      "text/plain": [
       "Friend                     0.277778\n",
       "WhatsApp                   0.277778\n",
       "Facebook                   0.161616\n",
       "LinkedIn                   0.070707\n",
       "ESIH                       0.065657\n",
       "Ayiti Analytics Website    0.055556\n",
       "other                      0.035354\n",
       "Bootcamp Alumni            0.030303\n",
       "Instagram                  0.020202\n",
       "unknown                    0.005051\n",
       "Name: hear_AA_1, dtype: float64"
      ]
     },
     "execution_count": 334,
     "metadata": {},
     "output_type": "execute_result"
    }
   ],
   "source": [
    "#here your codes\n",
    "prob_obsv2 = final_merge[final_merge[\"gender\"]==\"male\"][\"hear_AA_1\"]\n",
    "prob_obsv2.value_counts(normalize=1)\n",
    "\n"
   ]
  },
  {
   "cell_type": "markdown",
   "metadata": {},
   "source": [
    "### 11. Deduce the probability of being a woman knowing each communication channel"
   ]
  },
  {
   "cell_type": "code",
   "execution_count": 335,
   "metadata": {},
   "outputs": [],
   "source": [
    "#here your codes\n"
   ]
  },
  {
   "cell_type": "markdown",
   "metadata": {},
   "source": [
    "### 13. Deduce the probability of being a woman knowing each communication channel"
   ]
  },
  {
   "cell_type": "code",
   "execution_count": 336,
   "metadata": {},
   "outputs": [],
   "source": [
    "# here your codes"
   ]
  },
  {
   "cell_type": "markdown",
   "metadata": {},
   "source": [
    "### 14. Deduce the probability of being a man knowing each communication channel"
   ]
  },
  {
   "cell_type": "code",
   "execution_count": 337,
   "metadata": {},
   "outputs": [],
   "source": [
    "#here your codes\n"
   ]
  },
  {
   "cell_type": "markdown",
   "metadata": {},
   "source": [
    "### 15 Display a plot to see Gender vs Communication Channels .Is there any dependency between communication channels and gender?"
   ]
  },
  {
   "cell_type": "code",
   "execution_count": 351,
   "metadata": {},
   "outputs": [
    {
     "data": {
      "image/png": "[encoded data removed]",
      "text/plain": [
       "<Figure size 1152x432 with 1 Axes>"
      ]
     },
     "metadata": {
      "needs_background": "light"
     },
     "output_type": "display_data"
    },
    {
     "name": "stdout",
     "output_type": "stream",
     "text": [
      "We do the test of khi-square  hear_AA_1 and gender.\n",
      "1.3952919273024965e-46 is inferior than 0.05\n",
      "we can say that  the variables hear_AA_1 and gender are statistically significant.\n"
     ]
    }
   ],
   "source": [
    "#here \n",
    "def Presentation(data=final_merge, col1=\"\", col2=\"\", graph_title =\"Gender vs Communication Channels\", l=(12,6)):\n",
    "    g_cc = pd.crosstab(data[col1], final_merge[col2], margins = True)\n",
    "    g_cc.iloc[:-1,:-1].plot.bar(figsize=l)\n",
    "    plt.title(graph_title)\n",
    "    plt.legend()\n",
    "    plt.show()\n",
    "    chi2, pval, dof, expected = chi2_contingency(g_cc[g_cc.All>5].iloc[:-1,:-1])\n",
    "    print(f\"We do the test of khi-square  {col1} and {col2}.\")\n",
    "    if pval<0.05:\n",
    "        print(f\"{pval} is inferior than 0.05\")\n",
    "        print(f\"we can say that  the variables {col1} and {col2} are statistically significant.\")\n",
    "    else:\n",
    "        print(f\"{pval} is bigger than 0.05\")\n",
    "        print(f\"we can say that  the variables \\n{col1} and {col2} is not statistically significant.\")\n",
    "\n",
    "Presentation(col1=\"hear_AA_1\", col2=\"gender\", graph_title =\"Communication channels by bootcamp interest\", l=(16,6))"
   ]
  },
  {
   "cell_type": "markdown",
   "metadata": {},
   "source": [
    "### 16 Use the same method to display plot and know if is there any dependency between communication channels and Bootcamp Insterest?"
   ]
  },
  {
   "cell_type": "code",
   "execution_count": 352,
   "metadata": {},
   "outputs": [
    {
     "data": {
      "image/png": "[encoded data removed]",
      "text/plain": [
       "<Figure size 1152x432 with 1 Axes>"
      ]
     },
     "metadata": {
      "needs_background": "light"
     },
     "output_type": "display_data"
    },
    {
     "name": "stdout",
     "output_type": "stream",
     "text": [
      "We do the test of khi-square  hear_AA_1 and after_AA.\n",
      "1.604580669159394e-33 is inferior than 0.05\n",
      "we can say that  the variables hear_AA_1 and after_AA are statistically significant.\n"
     ]
    }
   ],
   "source": [
    "Presentation(col1=\"hear_AA_1\", col2=\"after_AA\", graph_title =\"Communication channels band bootcamp interest\", l=(16,6))\n"
   ]
  },
  {
   "cell_type": "markdown",
   "metadata": {},
   "source": [
    "### 17.Plan a BA  strategy for each communication channel, Bootcamp Insterest regarding the gender "
   ]
  },
  {
   "cell_type": "code",
   "execution_count": 55,
   "metadata": {},
   "outputs": [],
   "source": [
    "#here your codes"
   ]
  },
  {
   "cell_type": "markdown",
   "metadata": {},
   "source": [
    "### 18.Plan a BA  strategy for each communication channel, Bootcamp Insterest regarding the gender"
   ]
  },
  {
   "cell_type": "code",
   "execution_count": 56,
   "metadata": {},
   "outputs": [],
   "source": [
    "# here your codes"
   ]
  },
  {
   "cell_type": "markdown",
   "metadata": {},
   "source": [
    "### 19. Calculate \n",
    "    * P(Bootcamp Insterest,Communication channels,Gender/Payed=yes)\n",
    "    * P(Bootcamp Insterest,Communication channels,Gender/Payed=no)"
   ]
  },
  {
   "cell_type": "markdown",
   "metadata": {},
   "source": [
    "### 20 reduce \n",
    "* P(Payed=\"yes\"/Bootcamp Insterest=\"Increase Skill\",Communication channels=\"Friend\",Gender=\"male\")\n",
    "* P(Payed=\"no\"/Bootcamp Insterest=\"Increase Skill\",Communication channels=\"Friend\",Gender=\"male\")"
   ]
  },
  {
   "cell_type": "code",
   "execution_count": 57,
   "metadata": {},
   "outputs": [],
   "source": [
    "# here your codes"
   ]
  },
  {
   "cell_type": "markdown",
   "metadata": {},
   "source": [
    "### Based on these findings, propose strategies to increase our sales?"
   ]
  },
  {
   "cell_type": "code",
   "execution_count": 58,
   "metadata": {},
   "outputs": [],
   "source": [
    "#here your codes"
   ]
  },
  {
   "cell_type": "markdown",
   "metadata": {},
   "source": []
  }
 ],
 "metadata": {
  "interpreter": {
   "hash": "aee8b7b246df8f9039afb4144a1f6fd8d2ca17a180786b69acc140d282b71a49"
  },
  "kernelspec": {
   "display_name": "Python 3",
   "language": "python",
   "name": "python3"
  },
  "language_info": {
   "codemirror_mode": {
    "name": "ipython",
    "version": 3
   },
   "file_extension": ".py",
   "mimetype": "text/x-python",
   "name": "python",
   "nbconvert_exporter": "python",
   "pygments_lexer": "ipython3",
   "version": "3.8.5"
  }
 },
 "nbformat": 4,
 "nbformat_minor": 4
}
